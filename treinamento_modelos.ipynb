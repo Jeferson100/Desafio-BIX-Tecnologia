{
 "cells": [
  {
   "cell_type": "markdown",
   "metadata": {},
   "source": [
    "**Primeiramente, utilizei seis algoritmos para o treinamento:**\n",
    "\n",
    "- LogisticRegression(), \n",
    "- RandomForestClassifier(), \n",
    "- GradientBoostingClassifier(), \n",
    "- SVC(), \n",
    "- CatBoostClassifier(),\n",
    "- keras.Sequential()\n",
    "\n",
    "**Após avaliar o desempenho de cada modelo com hiperparâmetros padrão, escolhi:**\n",
    "- RandomForestClassifier() \n",
    "- CatBoostClassifier() \n",
    "\n",
    "**devido ao seu melhor desempenho. Como ambos são baseados em árvores de decisão, também selecionei**\n",
    "- keras.Sequential()(Redes Neurais Sequenciais) \n",
    "\n",
    "**para incluir um modelo com uma abordagem diferente. Esses três modelos serão passados para o algoritmo de otimização de hiperparâmetros.**\n",
    "\n",
    "\n",
    "- Para otimizar os hiperparâmetros do modelo Random Forest, utilizei o algoritmo RandomSearch. \n",
    "- Para a Redes Neurais Sequenciais, utilizei o algoritmo keras_tuner.RandomSearch,ele vem com algoritmos de Otimização Bayesiana, Hiperbanda e Pesquisa Aleatória integrados e também foi projetado para ser fácil para pesquisadores estenderem a fim de experimentar novos algoritmos de pesquisa.\n",
    "- Para o otimizar o modelo CatBoost, ele tem um proprio otimizador imbutido na classe chamado `CatBoostClassifier.grid_search`."
   ]
  },
  {
   "cell_type": "markdown",
   "metadata": {},
   "source": [
    "# Importando as bibliotecas"
   ]
  },
  {
   "cell_type": "code",
   "execution_count": 1,
   "metadata": {},
   "outputs": [
    {
     "name": "stderr",
     "output_type": "stream",
     "text": [
      "2024-07-24 13:14:28.841858: I tensorflow/core/util/port.cc:113] oneDNN custom operations are on. You may see slightly different numerical results due to floating-point round-off errors from different computation orders. To turn them off, set the environment variable `TF_ENABLE_ONEDNN_OPTS=0`.\n",
      "2024-07-24 13:14:29.032683: I external/local_tsl/tsl/cuda/cudart_stub.cc:32] Could not find cuda drivers on your machine, GPU will not be used.\n",
      "2024-07-24 13:14:33.604035: I external/local_tsl/tsl/cuda/cudart_stub.cc:32] Could not find cuda drivers on your machine, GPU will not be used.\n",
      "2024-07-24 13:14:53.529594: I tensorflow/core/platform/cpu_feature_guard.cc:210] This TensorFlow binary is optimized to use available CPU instructions in performance-critical operations.\n",
      "To enable the following instructions: AVX2 AVX512F AVX512_VNNI FMA, in other operations, rebuild TensorFlow with the appropriate compiler flags.\n",
      "2024-07-24 13:15:31.973591: W tensorflow/compiler/tf2tensorrt/utils/py_utils.cc:38] TF-TRT Warning: Could not find TensorRT\n"
     ]
    }
   ],
   "source": [
    "import pandas as pd\n",
    "import numpy as np\n",
    "from sklearn.linear_model import LogisticRegression\n",
    "from sklearn.ensemble import RandomForestClassifier\n",
    "from sklearn.ensemble import GradientBoostingClassifier\n",
    "from sklearn.svm import SVC\n",
    "from catboost import CatBoostClassifier\n",
    "import keras\n",
    "import keras_tuner\n",
    "from keras import layers\n",
    "from skopt import BayesSearchCV\n",
    "from sklearn.model_selection import RandomizedSearchCV\n",
    "from sklearn.metrics import classification_report,recall_score\n",
    "import warnings\n",
    "import pickle\n",
    "import warnings\n",
    "import joblib\n",
    "warnings.filterwarnings(\"ignore\")"
   ]
  },
  {
   "cell_type": "markdown",
   "metadata": {},
   "source": [
    "# Importacao dos dados"
   ]
  },
  {
   "cell_type": "code",
   "execution_count": 2,
   "metadata": {},
   "outputs": [],
   "source": [
    "dados_tratados = pickle.load(open('dados/dados_tratados.pickle', 'rb'))"
   ]
  },
  {
   "cell_type": "code",
   "execution_count": 3,
   "metadata": {},
   "outputs": [
    {
     "name": "stdout",
     "output_type": "stream",
     "text": [
      "(59606, 20) (59606,) (15891, 20) (15891,)\n"
     ]
    }
   ],
   "source": [
    "x_treino = dados_tratados['x_treino']\n",
    "y_treino = dados_tratados['y_treino']\n",
    "x_teste = dados_tratados['x_teste']\n",
    "y_teste = dados_tratados['y_teste']\n",
    "\n",
    "print(x_treino.shape, y_treino.shape, x_teste.shape, y_teste.shape) # x_treino.shape"
   ]
  },
  {
   "cell_type": "markdown",
   "metadata": {},
   "source": [
    "# Treinamento do modelo"
   ]
  },
  {
   "cell_type": "markdown",
   "metadata": {},
   "source": [
    "## Selecionando os modelos "
   ]
  },
  {
   "cell_type": "code",
   "execution_count": 5,
   "metadata": {},
   "outputs": [
    {
     "data": {
      "text/html": [
       "<pre style=\"white-space:pre;overflow-x:auto;line-height:normal;font-family:Menlo,'DejaVu Sans Mono',consolas,'Courier New',monospace\"><span style=\"font-weight: bold\">Model: \"sequential\"</span>\n",
       "</pre>\n"
      ],
      "text/plain": [
       "\u001b[1mModel: \"sequential\"\u001b[0m\n"
      ]
     },
     "metadata": {},
     "output_type": "display_data"
    },
    {
     "data": {
      "text/html": [
       "<pre style=\"white-space:pre;overflow-x:auto;line-height:normal;font-family:Menlo,'DejaVu Sans Mono',consolas,'Courier New',monospace\">┏━━━━━━━━━━━━━━━━━━━━━━━━━━━━━━━━━┳━━━━━━━━━━━━━━━━━━━━━━━━┳━━━━━━━━━━━━━━━┓\n",
       "┃<span style=\"font-weight: bold\"> Layer (type)                    </span>┃<span style=\"font-weight: bold\"> Output Shape           </span>┃<span style=\"font-weight: bold\">       Param # </span>┃\n",
       "┡━━━━━━━━━━━━━━━━━━━━━━━━━━━━━━━━━╇━━━━━━━━━━━━━━━━━━━━━━━━╇━━━━━━━━━━━━━━━┩\n",
       "│ dense (<span style=\"color: #0087ff; text-decoration-color: #0087ff\">Dense</span>)                   │ (<span style=\"color: #00d7ff; text-decoration-color: #00d7ff\">None</span>, <span style=\"color: #00af00; text-decoration-color: #00af00\">40</span>)             │           <span style=\"color: #00af00; text-decoration-color: #00af00\">840</span> │\n",
       "├─────────────────────────────────┼────────────────────────┼───────────────┤\n",
       "│ dense_1 (<span style=\"color: #0087ff; text-decoration-color: #0087ff\">Dense</span>)                 │ (<span style=\"color: #00d7ff; text-decoration-color: #00d7ff\">None</span>, <span style=\"color: #00af00; text-decoration-color: #00af00\">60</span>)             │         <span style=\"color: #00af00; text-decoration-color: #00af00\">2,460</span> │\n",
       "├─────────────────────────────────┼────────────────────────┼───────────────┤\n",
       "│ dense_2 (<span style=\"color: #0087ff; text-decoration-color: #0087ff\">Dense</span>)                 │ (<span style=\"color: #00d7ff; text-decoration-color: #00d7ff\">None</span>, <span style=\"color: #00af00; text-decoration-color: #00af00\">40</span>)             │         <span style=\"color: #00af00; text-decoration-color: #00af00\">2,440</span> │\n",
       "├─────────────────────────────────┼────────────────────────┼───────────────┤\n",
       "│ dense_3 (<span style=\"color: #0087ff; text-decoration-color: #0087ff\">Dense</span>)                 │ (<span style=\"color: #00d7ff; text-decoration-color: #00d7ff\">None</span>, <span style=\"color: #00af00; text-decoration-color: #00af00\">1</span>)              │            <span style=\"color: #00af00; text-decoration-color: #00af00\">41</span> │\n",
       "└─────────────────────────────────┴────────────────────────┴───────────────┘\n",
       "</pre>\n"
      ],
      "text/plain": [
       "┏━━━━━━━━━━━━━━━━━━━━━━━━━━━━━━━━━┳━━━━━━━━━━━━━━━━━━━━━━━━┳━━━━━━━━━━━━━━━┓\n",
       "┃\u001b[1m \u001b[0m\u001b[1mLayer (type)                   \u001b[0m\u001b[1m \u001b[0m┃\u001b[1m \u001b[0m\u001b[1mOutput Shape          \u001b[0m\u001b[1m \u001b[0m┃\u001b[1m \u001b[0m\u001b[1m      Param #\u001b[0m\u001b[1m \u001b[0m┃\n",
       "┡━━━━━━━━━━━━━━━━━━━━━━━━━━━━━━━━━╇━━━━━━━━━━━━━━━━━━━━━━━━╇━━━━━━━━━━━━━━━┩\n",
       "│ dense (\u001b[38;5;33mDense\u001b[0m)                   │ (\u001b[38;5;45mNone\u001b[0m, \u001b[38;5;34m40\u001b[0m)             │           \u001b[38;5;34m840\u001b[0m │\n",
       "├─────────────────────────────────┼────────────────────────┼───────────────┤\n",
       "│ dense_1 (\u001b[38;5;33mDense\u001b[0m)                 │ (\u001b[38;5;45mNone\u001b[0m, \u001b[38;5;34m60\u001b[0m)             │         \u001b[38;5;34m2,460\u001b[0m │\n",
       "├─────────────────────────────────┼────────────────────────┼───────────────┤\n",
       "│ dense_2 (\u001b[38;5;33mDense\u001b[0m)                 │ (\u001b[38;5;45mNone\u001b[0m, \u001b[38;5;34m40\u001b[0m)             │         \u001b[38;5;34m2,440\u001b[0m │\n",
       "├─────────────────────────────────┼────────────────────────┼───────────────┤\n",
       "│ dense_3 (\u001b[38;5;33mDense\u001b[0m)                 │ (\u001b[38;5;45mNone\u001b[0m, \u001b[38;5;34m1\u001b[0m)              │            \u001b[38;5;34m41\u001b[0m │\n",
       "└─────────────────────────────────┴────────────────────────┴───────────────┘\n"
      ]
     },
     "metadata": {},
     "output_type": "display_data"
    },
    {
     "data": {
      "text/html": [
       "<pre style=\"white-space:pre;overflow-x:auto;line-height:normal;font-family:Menlo,'DejaVu Sans Mono',consolas,'Courier New',monospace\"><span style=\"font-weight: bold\"> Total params: </span><span style=\"color: #00af00; text-decoration-color: #00af00\">5,781</span> (22.58 KB)\n",
       "</pre>\n"
      ],
      "text/plain": [
       "\u001b[1m Total params: \u001b[0m\u001b[38;5;34m5,781\u001b[0m (22.58 KB)\n"
      ]
     },
     "metadata": {},
     "output_type": "display_data"
    },
    {
     "data": {
      "text/html": [
       "<pre style=\"white-space:pre;overflow-x:auto;line-height:normal;font-family:Menlo,'DejaVu Sans Mono',consolas,'Courier New',monospace\"><span style=\"font-weight: bold\"> Trainable params: </span><span style=\"color: #00af00; text-decoration-color: #00af00\">5,781</span> (22.58 KB)\n",
       "</pre>\n"
      ],
      "text/plain": [
       "\u001b[1m Trainable params: \u001b[0m\u001b[38;5;34m5,781\u001b[0m (22.58 KB)\n"
      ]
     },
     "metadata": {},
     "output_type": "display_data"
    },
    {
     "data": {
      "text/html": [
       "<pre style=\"white-space:pre;overflow-x:auto;line-height:normal;font-family:Menlo,'DejaVu Sans Mono',consolas,'Courier New',monospace\"><span style=\"font-weight: bold\"> Non-trainable params: </span><span style=\"color: #00af00; text-decoration-color: #00af00\">0</span> (0.00 B)\n",
       "</pre>\n"
      ],
      "text/plain": [
       "\u001b[1m Non-trainable params: \u001b[0m\u001b[38;5;34m0\u001b[0m (0.00 B)\n"
      ]
     },
     "metadata": {},
     "output_type": "display_data"
    }
   ],
   "source": [
    "## criar a rede seqeuncial\n",
    "\n",
    "model_rede = keras.Sequential()\n",
    "model_rede.add(layers.Dense(units=40,activation='relu',input_shape=(20,)))\n",
    "#model.add(layers.Dropout(0.20))\n",
    "model_rede.add(layers.Dense(units=60,activation='relu'))\n",
    "#model.add(layers.Dropout(0.20))\n",
    "model_rede.add(layers.Dense(units=40,activation='relu'))\n",
    "#model.add(layers.Dropout(0.20))\n",
    "model_rede.add(layers.Dense(units=1,activation='sigmoid'))\n",
    "model_rede.summary()\n",
    "opt = keras.optimizers.SGD(learning_rate=0.01)\n",
    "model_rede.compile(optimizer=opt, loss='binary_crossentropy',metrics=['accuracy', 'Recall'])\n",
    "#epochs_hist = model.fit(x_treino, y_treino.values, epochs=100,batch_size=500)\n"
   ]
  },
  {
   "cell_type": "code",
   "execution_count": 6,
   "metadata": {},
   "outputs": [
    {
     "name": "stdout",
     "output_type": "stream",
     "text": [
      "O modelo treinado e de: logistic_regression\n",
      "logistic_regression 0.9821282486942294\n",
      "              precision    recall  f1-score   support\n",
      "\n",
      "           0       0.99      1.00      0.99     15518\n",
      "           1       0.72      0.39      0.51       373\n",
      "\n",
      "    accuracy                           0.98     15891\n",
      "   macro avg       0.85      0.70      0.75     15891\n",
      "weighted avg       0.98      0.98      0.98     15891\n",
      "\n",
      "----------------------------------------------------\n",
      "O modelo treinado e de: random_forest\n",
      "random_forest 0.9889874771883456\n",
      "              precision    recall  f1-score   support\n",
      "\n",
      "           0       0.99      1.00      0.99     15518\n",
      "           1       0.90      0.60      0.72       373\n",
      "\n",
      "    accuracy                           0.99     15891\n",
      "   macro avg       0.95      0.80      0.86     15891\n",
      "weighted avg       0.99      0.99      0.99     15891\n",
      "\n",
      "----------------------------------------------------\n",
      "O modelo treinado e de: gradient_boost\n",
      "gradient_boost 0.9879176892580706\n",
      "              precision    recall  f1-score   support\n",
      "\n",
      "           0       0.99      1.00      0.99     15518\n",
      "           1       0.86      0.58      0.69       373\n",
      "\n",
      "    accuracy                           0.99     15891\n",
      "   macro avg       0.93      0.79      0.84     15891\n",
      "weighted avg       0.99      0.99      0.99     15891\n",
      "\n",
      "----------------------------------------------------\n",
      "O modelo treinado e de: svc\n",
      "svc 0.9856522559939589\n",
      "              precision    recall  f1-score   support\n",
      "\n",
      "           0       0.99      1.00      0.99     15518\n",
      "           1       0.90      0.44      0.59       373\n",
      "\n",
      "    accuracy                           0.99     15891\n",
      "   macro avg       0.94      0.72      0.79     15891\n",
      "weighted avg       0.98      0.99      0.98     15891\n",
      "\n",
      "----------------------------------------------------\n",
      "O modelo treinado e de: cat_boost\n",
      "cat_boost 0.9913158391542383\n",
      "              precision    recall  f1-score   support\n",
      "\n",
      "           0       0.99      1.00      1.00     15518\n",
      "           1       0.90      0.71      0.79       373\n",
      "\n",
      "    accuracy                           0.99     15891\n",
      "   macro avg       0.95      0.85      0.89     15891\n",
      "weighted avg       0.99      0.99      0.99     15891\n",
      "\n",
      "----------------------------------------------------\n",
      "O modelo treinado é o: redes_sequencial\n",
      "\u001b[1m497/497\u001b[0m \u001b[32m━━━━━━━━━━━━━━━━━━━━\u001b[0m\u001b[37m\u001b[0m \u001b[1m1s\u001b[0m 1ms/step\n",
      "              precision    recall  f1-score   support\n",
      "\n",
      "           0       0.99      1.00      0.99     15518\n",
      "           1       0.76      0.40      0.52       373\n",
      "\n",
      "    accuracy                           0.98     15891\n",
      "   macro avg       0.87      0.70      0.76     15891\n",
      "weighted avg       0.98      0.98      0.98     15891\n",
      "\n",
      "----------------------------------------------------\n"
     ]
    }
   ],
   "source": [
    "##\n",
    "modelos = {\n",
    "    'logistic_regression': LogisticRegression(),\n",
    "    'random_forest': RandomForestClassifier(),\n",
    "    'gradient_boost': GradientBoostingClassifier(),\n",
    "    'svc': SVC(),\n",
    "    'cat_boost': CatBoostClassifier(),\n",
    "    'redes_sequencial': model_rede\n",
    "}\n",
    "\n",
    "lista_recall = {}\n",
    "for key,model in modelos.items():\n",
    "    if key == 'redes_sequencial': \n",
    "        epochs_hist = model.fit(x_treino, y_treino.values, epochs=100,batch_size=500,verbose=0)  \n",
    "        print('O modelo treinado é o:', key)\n",
    "        y_pred = model.predict(x_teste).squeeze()\n",
    "        y_pred_redes = (y_pred > 0.5).astype(int)\n",
    "        lista_recall[key] = recall_score(y_teste,y_pred_redes)\n",
    "        print(classification_report(y_teste.values, y_pred_redes))  \n",
    "        print('----------------------------------------------------')\n",
    "        \n",
    "    else:\n",
    "        model = model\n",
    "        if key == 'cat_boost':\n",
    "            model_treinado = model.fit(x_treino, y_treino,verbose=0)\n",
    "        else:\n",
    "            model_treinado = model.fit(x_treino, y_treino)\n",
    "        print('O modelo treinado e de:', key)\n",
    "        print(key, model_treinado.score(x_teste, y_teste))\n",
    "        print(classification_report(y_teste, model.predict(x_teste)))\n",
    "        lista_recall[key] = recall_score(y_teste,model.predict(x_teste))\n",
    "        print('----------------------------------------------------')\n"
   ]
  },
  {
   "cell_type": "markdown",
   "metadata": {},
   "source": [
    "**Análise dos Resultados**\n",
    "\n",
    "Os modelos de Boosting parecem ter um desempenho melhor, sendo os três melhores:\n",
    "\n",
    "Selecionei os seguintes modelos para fazer a tunagem:\n",
    "- Cat Boost\n",
    "- Random Forest\n",
    "\n",
    "Para ter um modelo diferente, o terceiro modelo será a rede sequencial."
   ]
  },
  {
   "cell_type": "code",
   "execution_count": 7,
   "metadata": {},
   "outputs": [
    {
     "data": {
      "text/html": [
       "<div>\n",
       "<style scoped>\n",
       "    .dataframe tbody tr th:only-of-type {\n",
       "        vertical-align: middle;\n",
       "    }\n",
       "\n",
       "    .dataframe tbody tr th {\n",
       "        vertical-align: top;\n",
       "    }\n",
       "\n",
       "    .dataframe thead th {\n",
       "        text-align: right;\n",
       "    }\n",
       "</style>\n",
       "<table border=\"1\" class=\"dataframe\">\n",
       "  <thead>\n",
       "    <tr style=\"text-align: right;\">\n",
       "      <th></th>\n",
       "      <th>Model</th>\n",
       "      <th>Recall</th>\n",
       "    </tr>\n",
       "  </thead>\n",
       "  <tbody>\n",
       "    <tr>\n",
       "      <th>4</th>\n",
       "      <td>cat_boost</td>\n",
       "      <td>0.705094</td>\n",
       "    </tr>\n",
       "    <tr>\n",
       "      <th>1</th>\n",
       "      <td>random_forest</td>\n",
       "      <td>0.595174</td>\n",
       "    </tr>\n",
       "    <tr>\n",
       "      <th>2</th>\n",
       "      <td>gradient_boost</td>\n",
       "      <td>0.579088</td>\n",
       "    </tr>\n",
       "    <tr>\n",
       "      <th>3</th>\n",
       "      <td>svc</td>\n",
       "      <td>0.439678</td>\n",
       "    </tr>\n",
       "    <tr>\n",
       "      <th>5</th>\n",
       "      <td>redes_sequencial</td>\n",
       "      <td>0.396783</td>\n",
       "    </tr>\n",
       "    <tr>\n",
       "      <th>0</th>\n",
       "      <td>logistic_regression</td>\n",
       "      <td>0.394102</td>\n",
       "    </tr>\n",
       "  </tbody>\n",
       "</table>\n",
       "</div>"
      ],
      "text/plain": [
       "                 Model    Recall\n",
       "4            cat_boost  0.705094\n",
       "1        random_forest  0.595174\n",
       "2       gradient_boost  0.579088\n",
       "3                  svc  0.439678\n",
       "5     redes_sequencial  0.396783\n",
       "0  logistic_regression  0.394102"
      ]
     },
     "execution_count": 7,
     "metadata": {},
     "output_type": "execute_result"
    }
   ],
   "source": [
    "pd.DataFrame(list(lista_recall.items()), columns=['Model', 'Recall']).sort_values(by='Recall', ascending=False)"
   ]
  },
  {
   "cell_type": "markdown",
   "metadata": {},
   "source": [
    "# Tunagem dos modelos"
   ]
  },
  {
   "cell_type": "markdown",
   "metadata": {},
   "source": [
    "## Cat Boost"
   ]
  },
  {
   "cell_type": "code",
   "execution_count": 12,
   "metadata": {},
   "outputs": [
    {
     "data": {
      "text/html": [
       "<style>#sk-container-id-4 {color: black;}#sk-container-id-4 pre{padding: 0;}#sk-container-id-4 div.sk-toggleable {background-color: white;}#sk-container-id-4 label.sk-toggleable__label {cursor: pointer;display: block;width: 100%;margin-bottom: 0;padding: 0.3em;box-sizing: border-box;text-align: center;}#sk-container-id-4 label.sk-toggleable__label-arrow:before {content: \"▸\";float: left;margin-right: 0.25em;color: #696969;}#sk-container-id-4 label.sk-toggleable__label-arrow:hover:before {color: black;}#sk-container-id-4 div.sk-estimator:hover label.sk-toggleable__label-arrow:before {color: black;}#sk-container-id-4 div.sk-toggleable__content {max-height: 0;max-width: 0;overflow: hidden;text-align: left;background-color: #f0f8ff;}#sk-container-id-4 div.sk-toggleable__content pre {margin: 0.2em;color: black;border-radius: 0.25em;background-color: #f0f8ff;}#sk-container-id-4 input.sk-toggleable__control:checked~div.sk-toggleable__content {max-height: 200px;max-width: 100%;overflow: auto;}#sk-container-id-4 input.sk-toggleable__control:checked~label.sk-toggleable__label-arrow:before {content: \"▾\";}#sk-container-id-4 div.sk-estimator input.sk-toggleable__control:checked~label.sk-toggleable__label {background-color: #d4ebff;}#sk-container-id-4 div.sk-label input.sk-toggleable__control:checked~label.sk-toggleable__label {background-color: #d4ebff;}#sk-container-id-4 input.sk-hidden--visually {border: 0;clip: rect(1px 1px 1px 1px);clip: rect(1px, 1px, 1px, 1px);height: 1px;margin: -1px;overflow: hidden;padding: 0;position: absolute;width: 1px;}#sk-container-id-4 div.sk-estimator {font-family: monospace;background-color: #f0f8ff;border: 1px dotted black;border-radius: 0.25em;box-sizing: border-box;margin-bottom: 0.5em;}#sk-container-id-4 div.sk-estimator:hover {background-color: #d4ebff;}#sk-container-id-4 div.sk-parallel-item::after {content: \"\";width: 100%;border-bottom: 1px solid gray;flex-grow: 1;}#sk-container-id-4 div.sk-label:hover label.sk-toggleable__label {background-color: #d4ebff;}#sk-container-id-4 div.sk-serial::before {content: \"\";position: absolute;border-left: 1px solid gray;box-sizing: border-box;top: 0;bottom: 0;left: 50%;z-index: 0;}#sk-container-id-4 div.sk-serial {display: flex;flex-direction: column;align-items: center;background-color: white;padding-right: 0.2em;padding-left: 0.2em;position: relative;}#sk-container-id-4 div.sk-item {position: relative;z-index: 1;}#sk-container-id-4 div.sk-parallel {display: flex;align-items: stretch;justify-content: center;background-color: white;position: relative;}#sk-container-id-4 div.sk-item::before, #sk-container-id-4 div.sk-parallel-item::before {content: \"\";position: absolute;border-left: 1px solid gray;box-sizing: border-box;top: 0;bottom: 0;left: 50%;z-index: -1;}#sk-container-id-4 div.sk-parallel-item {display: flex;flex-direction: column;z-index: 1;position: relative;background-color: white;}#sk-container-id-4 div.sk-parallel-item:first-child::after {align-self: flex-end;width: 50%;}#sk-container-id-4 div.sk-parallel-item:last-child::after {align-self: flex-start;width: 50%;}#sk-container-id-4 div.sk-parallel-item:only-child::after {width: 0;}#sk-container-id-4 div.sk-dashed-wrapped {border: 1px dashed gray;margin: 0 0.4em 0.5em 0.4em;box-sizing: border-box;padding-bottom: 0.4em;background-color: white;}#sk-container-id-4 div.sk-label label {font-family: monospace;font-weight: bold;display: inline-block;line-height: 1.2em;}#sk-container-id-4 div.sk-label-container {text-align: center;}#sk-container-id-4 div.sk-container {/* jupyter's `normalize.less` sets `[hidden] { display: none; }` but bootstrap.min.css set `[hidden] { display: none !important; }` so we also need the `!important` here to be able to override the default hidden behavior on the sphinx rendered scikit-learn.org. See: https://github.com/scikit-learn/scikit-learn/issues/21755 */display: inline-block !important;position: relative;}#sk-container-id-4 div.sk-text-repr-fallback {display: none;}</style><div id=\"sk-container-id-4\" class=\"sk-top-container\"><div class=\"sk-text-repr-fallback\"><pre>RandomizedSearchCV(estimator=&lt;catboost.core.CatBoostClassifier object at 0x7f6730227650&gt;,\n",
       "                   param_distributions={&#x27;depth&#x27;: [1, 3, 5, 7, 9, 20, 40, 50, 60,\n",
       "                                                  70, 80, 90, 100],\n",
       "                                        &#x27;iterations&#x27;: [2, 10, 20, 30, 50, 100,\n",
       "                                                       200, 300, 400, 500],\n",
       "                                        &#x27;l2_leaf_reg&#x27;: [1, 3, 5, 7, 9],\n",
       "                                        &#x27;learning_rate&#x27;: [0.1, 0.15, 0.2, 0.4,\n",
       "                                                          0.6, 0.8, 1]},\n",
       "                   scoring=&#x27;recall&#x27;)</pre><b>In a Jupyter environment, please rerun this cell to show the HTML representation or trust the notebook. <br />On GitHub, the HTML representation is unable to render, please try loading this page with nbviewer.org.</b></div><div class=\"sk-container\" hidden><div class=\"sk-item sk-dashed-wrapped\"><div class=\"sk-label-container\"><div class=\"sk-label sk-toggleable\"><input class=\"sk-toggleable__control sk-hidden--visually\" id=\"sk-estimator-id-8\" type=\"checkbox\" ><label for=\"sk-estimator-id-8\" class=\"sk-toggleable__label sk-toggleable__label-arrow\">RandomizedSearchCV</label><div class=\"sk-toggleable__content\"><pre>RandomizedSearchCV(estimator=&lt;catboost.core.CatBoostClassifier object at 0x7f6730227650&gt;,\n",
       "                   param_distributions={&#x27;depth&#x27;: [1, 3, 5, 7, 9, 20, 40, 50, 60,\n",
       "                                                  70, 80, 90, 100],\n",
       "                                        &#x27;iterations&#x27;: [2, 10, 20, 30, 50, 100,\n",
       "                                                       200, 300, 400, 500],\n",
       "                                        &#x27;l2_leaf_reg&#x27;: [1, 3, 5, 7, 9],\n",
       "                                        &#x27;learning_rate&#x27;: [0.1, 0.15, 0.2, 0.4,\n",
       "                                                          0.6, 0.8, 1]},\n",
       "                   scoring=&#x27;recall&#x27;)</pre></div></div></div><div class=\"sk-parallel\"><div class=\"sk-parallel-item\"><div class=\"sk-item\"><div class=\"sk-label-container\"><div class=\"sk-label sk-toggleable\"><input class=\"sk-toggleable__control sk-hidden--visually\" id=\"sk-estimator-id-9\" type=\"checkbox\" ><label for=\"sk-estimator-id-9\" class=\"sk-toggleable__label sk-toggleable__label-arrow\">estimator: CatBoostClassifier</label><div class=\"sk-toggleable__content\"><pre>&lt;catboost.core.CatBoostClassifier object at 0x7f6730227650&gt;</pre></div></div></div><div class=\"sk-serial\"><div class=\"sk-item\"><div class=\"sk-estimator sk-toggleable\"><input class=\"sk-toggleable__control sk-hidden--visually\" id=\"sk-estimator-id-10\" type=\"checkbox\" ><label for=\"sk-estimator-id-10\" class=\"sk-toggleable__label sk-toggleable__label-arrow\">CatBoostClassifier</label><div class=\"sk-toggleable__content\"><pre>&lt;catboost.core.CatBoostClassifier object at 0x7f6730227650&gt;</pre></div></div></div></div></div></div></div></div></div></div>"
      ],
      "text/plain": [
       "RandomizedSearchCV(estimator=<catboost.core.CatBoostClassifier object at 0x7f6730227650>,\n",
       "                   param_distributions={'depth': [1, 3, 5, 7, 9, 20, 40, 50, 60,\n",
       "                                                  70, 80, 90, 100],\n",
       "                                        'iterations': [2, 10, 20, 30, 50, 100,\n",
       "                                                       200, 300, 400, 500],\n",
       "                                        'l2_leaf_reg': [1, 3, 5, 7, 9],\n",
       "                                        'learning_rate': [0.1, 0.15, 0.2, 0.4,\n",
       "                                                          0.6, 0.8, 1]},\n",
       "                   scoring='recall')"
      ]
     },
     "execution_count": 12,
     "metadata": {},
     "output_type": "execute_result"
    }
   ],
   "source": [
    "## Parametros Cast Boost\n",
    "parametros_cat = {\"iterations\": [2, 10, 20, 30, 50, 100, 200, 300, 400, 500],\n",
    "                    \"learning_rate\": [0.1, 0.15, 0.2, 0.4, 0.6, 0.8, 1],\n",
    "                    \"depth\": [1, 3, 5, 7, 9,20,40,50,60,70,80,90,100],\n",
    "                    'l2_leaf_reg': [1, 3, 5, 7, 9]\n",
    "                }\n",
    "\n",
    "grid_cat = RandomizedSearchCV(\n",
    "            CatBoostClassifier(verbose=0), parametros_cat, verbose=0, scoring=\"recall\"\n",
    "        )\n",
    "grid_cat.fit(x_treino, y_treino)"
   ]
  },
  {
   "cell_type": "code",
   "execution_count": null,
   "metadata": {},
   "outputs": [],
   "source": [
    "cat_model = CatBoostClassifier(verbose=0)\n",
    "\n",
    "parametros_cat = {\"iterations\": [2, 10, 20, 30, 50, 100, 200, 300, 400, 500],\n",
    "                    \"learning_rate\": [0.1, 0.15, 0.2, 0.4, 0.6, 0.8, 1],\n",
    "                    \"depth\": [1, 3, 5, 7, 9,20,40,50,60,70,80,90,100],\n",
    "                    'l2_leaf_reg': [1, 3, 5, 7, 9]\n",
    "                }\n",
    "\n",
    "grid_cat = cat_model.grid_search(param_grid=parametros_cat,\n",
    "                                       X=x_treino,\n",
    "                                       y=y_treino)"
   ]
  },
  {
   "cell_type": "code",
   "execution_count": 16,
   "metadata": {},
   "outputs": [
    {
     "data": {
      "text/plain": [
       "dict_keys(['params', 'cv_results'])"
      ]
     },
     "execution_count": 16,
     "metadata": {},
     "output_type": "execute_result"
    }
   ],
   "source": [
    "grid_cat.keys()"
   ]
  },
  {
   "cell_type": "code",
   "execution_count": 22,
   "metadata": {},
   "outputs": [
    {
     "data": {
      "text/plain": [
       "[0.4367745714096049,\n",
       " 0.2838888584669405,\n",
       " 0.18486685683608908,\n",
       " 0.12770619012021825,\n",
       " 0.09333006092375805,\n",
       " 0.07296905463961208,\n",
       " 0.06025660375932421,\n",
       " 0.0516975671313766,\n",
       " 0.04622805163346866,\n",
       " 0.04239183127764645,\n",
       " 0.039952741417662405,\n",
       " 0.03766901512137954,\n",
       " 0.0363182947924083,\n",
       " 0.03507474973679025,\n",
       " 0.03387306312326049,\n",
       " 0.03309413280038704,\n",
       " 0.03243152553518989,\n",
       " 0.03181707168920283,\n",
       " 0.03127972911816037,\n",
       " 0.030861135163456902,\n",
       " 0.03041188021039361,\n",
       " 0.030053117482783193,\n",
       " 0.029819964092775087,\n",
       " 0.029522255074962298,\n",
       " 0.029254102299981762,\n",
       " 0.02898938553223565,\n",
       " 0.02880254486358044,\n",
       " 0.0286331381037737,\n",
       " 0.028473693323916333,\n",
       " 0.028385548920269135,\n",
       " 0.028252516367249857,\n",
       " 0.02810577982240837,\n",
       " 0.027981732654733776,\n",
       " 0.02787317901869658,\n",
       " 0.02777621156037191,\n",
       " 0.027708830694387926,\n",
       " 0.027617678670430783,\n",
       " 0.027520921670204382,\n",
       " 0.027447289344104887,\n",
       " 0.027385679054019518,\n",
       " 0.02726448679444725,\n",
       " 0.02717486430246903,\n",
       " 0.027164412423846544,\n",
       " 0.027094987326358667,\n",
       " 0.027005400697129648,\n",
       " 0.026922985352779902,\n",
       " 0.02683705849808997,\n",
       " 0.026706036846805767,\n",
       " 0.026626528381427494,\n",
       " 0.026586528051185106,\n",
       " 0.026502712622750644,\n",
       " 0.02643129100577764,\n",
       " 0.026334155685706778,\n",
       " 0.026297627286510167,\n",
       " 0.026242933666878205,\n",
       " 0.026204294643282264,\n",
       " 0.026165543438572997,\n",
       " 0.026120980015659,\n",
       " 0.026098269288537132,\n",
       " 0.026025939879503888,\n",
       " 0.02598161521052846,\n",
       " 0.025926394170319996,\n",
       " 0.025868910660040434,\n",
       " 0.025833749248173717,\n",
       " 0.025792286914973872,\n",
       " 0.025731461240136977,\n",
       " 0.025678091026631624,\n",
       " 0.02566450883507217,\n",
       " 0.025614272186671158,\n",
       " 0.02558737935296121,\n",
       " 0.025534873964179212,\n",
       " 0.025511510831720614,\n",
       " 0.02548388981572089,\n",
       " 0.025437505903922967,\n",
       " 0.025402139202971515,\n",
       " 0.02542157662703919,\n",
       " 0.02542205809845313,\n",
       " 0.02540841798753583,\n",
       " 0.025358699913260604,\n",
       " 0.02534008210774136,\n",
       " 0.025319884369372724,\n",
       " 0.02529463130976603,\n",
       " 0.025250262883393052,\n",
       " 0.025230579002431416,\n",
       " 0.025238671721622186,\n",
       " 0.025221769180103007,\n",
       " 0.0252223762141205,\n",
       " 0.02520728470764602,\n",
       " 0.025165836347357886,\n",
       " 0.025170682497429087,\n",
       " 0.025128718390341722,\n",
       " 0.025113911711027725,\n",
       " 0.025097515788976715,\n",
       " 0.025074244769086696,\n",
       " 0.025039593311678515,\n",
       " 0.024991083828836896,\n",
       " 0.024961989443098177,\n",
       " 0.02495247968054387,\n",
       " 0.02494711219355233,\n",
       " 0.024941997540963667,\n",
       " 0.024920586139568397,\n",
       " 0.024906174877947804,\n",
       " 0.024893827732951814,\n",
       " 0.02485436922803871,\n",
       " 0.024830116106091763,\n",
       " 0.024807489627877505,\n",
       " 0.024794542675410754,\n",
       " 0.024769928060974094,\n",
       " 0.024737013315442567,\n",
       " 0.024714075276852123,\n",
       " 0.024703738547360268,\n",
       " 0.024699182026913794,\n",
       " 0.02470447009497878,\n",
       " 0.024695818297988083,\n",
       " 0.024694409904732484,\n",
       " 0.02469212284848815,\n",
       " 0.02466559544190899,\n",
       " 0.024673678432621905,\n",
       " 0.024665807754192942,\n",
       " 0.024668971827831166,\n",
       " 0.024675118745506045,\n",
       " 0.02467966873032243,\n",
       " 0.02466853230165608,\n",
       " 0.024650300135503442,\n",
       " 0.024640215673411958,\n",
       " 0.024623757409494334,\n",
       " 0.024611103010763958,\n",
       " 0.02458639991322818,\n",
       " 0.02457391333635912,\n",
       " 0.02455869167778475,\n",
       " 0.024554158821448128,\n",
       " 0.02453844769919274,\n",
       " 0.02451503636431912,\n",
       " 0.024507335499939362,\n",
       " 0.0245031366561011,\n",
       " 0.024468687458228004,\n",
       " 0.02448038880220296,\n",
       " 0.024463370026307798,\n",
       " 0.02447144176032139,\n",
       " 0.024475383776572743,\n",
       " 0.024458595853436942,\n",
       " 0.02446200659583428,\n",
       " 0.024463979241545475,\n",
       " 0.024466029227183637,\n",
       " 0.024448581567422578,\n",
       " 0.02443989945152109,\n",
       " 0.024441219919348552,\n",
       " 0.024445223874614837,\n",
       " 0.024444312231253425,\n",
       " 0.024440475902472034,\n",
       " 0.024439464422211763,\n",
       " 0.024424536495376792,\n",
       " 0.024418068848827263,\n",
       " 0.024394672913945658,\n",
       " 0.0243925634771926,\n",
       " 0.024394262363060065,\n",
       " 0.024386366191770537,\n",
       " 0.024379409180535026,\n",
       " 0.024376516485907742,\n",
       " 0.02438127673519651,\n",
       " 0.024378734919961436,\n",
       " 0.024378607207263578,\n",
       " 0.02437422580273428,\n",
       " 0.024353732006914153,\n",
       " 0.024346198123714923,\n",
       " 0.0243299469734209,\n",
       " 0.02430874532303412,\n",
       " 0.02430429515626935,\n",
       " 0.024308329867100853,\n",
       " 0.02429966646486523,\n",
       " 0.02430160597062001,\n",
       " 0.024300152497172624,\n",
       " 0.024293061065684938,\n",
       " 0.02429337474335556,\n",
       " 0.024278013053043068,\n",
       " 0.024284688417149647,\n",
       " 0.024287144573343983,\n",
       " 0.024297808462329883,\n",
       " 0.02429295974107371,\n",
       " 0.02428556466074656,\n",
       " 0.024283568708573594,\n",
       " 0.024283301717909735,\n",
       " 0.02429195164786758,\n",
       " 0.024284234888510656,\n",
       " 0.024287798942603894,\n",
       " 0.024288875794777814,\n",
       " 0.024287314961518935,\n",
       " 0.024284976256133007,\n",
       " 0.024277061300740883,\n",
       " 0.024277519473622975,\n",
       " 0.02428031037905037,\n",
       " 0.024288527265088584,\n",
       " 0.02428598764651783,\n",
       " 0.024286375621767,\n",
       " 0.024256769210576495,\n",
       " 0.024263388368675653,\n",
       " 0.024258240320633496,\n",
       " 0.02426773576358734,\n",
       " 0.02428555983682321,\n",
       " 0.02429143663987086,\n",
       " 0.02430145119568107,\n",
       " 0.02432794952105535,\n",
       " 0.02433990378816127,\n",
       " 0.02434230188426642,\n",
       " 0.02434904020444288,\n",
       " 0.024360642624056027,\n",
       " 0.024377181954088112,\n",
       " 0.02437280315009463,\n",
       " 0.02437115349845798,\n",
       " 0.024372397837531746,\n",
       " 0.024380530086928438,\n",
       " 0.02437762355433451,\n",
       " 0.024386985166937103,\n",
       " 0.024376188393076495,\n",
       " 0.024387329991220067,\n",
       " 0.02438005384670937,\n",
       " 0.024367706023657804,\n",
       " 0.02437577933041156,\n",
       " 0.02437236003650381,\n",
       " 0.024374811503404332,\n",
       " 0.024381256897540157,\n",
       " 0.02438600791312491,\n",
       " 0.024400948085492664,\n",
       " 0.02439637532358253,\n",
       " 0.024398678577438455,\n",
       " 0.02439092714230175,\n",
       " 0.02438943912609332,\n",
       " 0.024396971820847903,\n",
       " 0.024390469986982157,\n",
       " 0.024382096035649007,\n",
       " 0.024383126158390344,\n",
       " 0.024402686191802747,\n",
       " 0.02440723777955617,\n",
       " 0.02440070139408099,\n",
       " 0.024407165306093066,\n",
       " 0.024416264902501848,\n",
       " 0.02440900748799131,\n",
       " 0.024417302610032138,\n",
       " 0.024412880773977057,\n",
       " 0.024414863082760502,\n",
       " 0.024409219896768364,\n",
       " 0.02440992116344672,\n",
       " 0.024409906473877547,\n",
       " 0.024413886391279765,\n",
       " 0.02441697887847079,\n",
       " 0.02441752014275121,\n",
       " 0.024418910027226255,\n",
       " 0.02442621855329076,\n",
       " 0.024432410231111312,\n",
       " 0.02443308147883114,\n",
       " 0.024426723032578364,\n",
       " 0.0244276734194707,\n",
       " 0.02444345634459916,\n",
       " 0.024438112527996214,\n",
       " 0.02444862598837386,\n",
       " 0.024453827807306764,\n",
       " 0.02445612306760947,\n",
       " 0.02446938278243826,\n",
       " 0.024483569140473355,\n",
       " 0.024479336831217988,\n",
       " 0.024487357502870424,\n",
       " 0.02450067926454012,\n",
       " 0.024499860641609528,\n",
       " 0.024516271794889872,\n",
       " 0.024517553643793804,\n",
       " 0.024534811099360555,\n",
       " 0.02454400094518384,\n",
       " 0.024545218021611484,\n",
       " 0.02453557743847382,\n",
       " 0.024543890116605932,\n",
       " 0.02454918341105779,\n",
       " 0.024554014519187678,\n",
       " 0.024562021716279994,\n",
       " 0.02456301724919882,\n",
       " 0.024570745223074772,\n",
       " 0.02457382266486319,\n",
       " 0.02457767886527454,\n",
       " 0.024580589233774125,\n",
       " 0.024588198978685444,\n",
       " 0.024595607372512374,\n",
       " 0.0245953478976154,\n",
       " 0.024598683050740106,\n",
       " 0.02459915888534893,\n",
       " 0.024608743813473843,\n",
       " 0.024616657405807842,\n",
       " 0.02461984005778529,\n",
       " 0.024621641721524267,\n",
       " 0.024640966910169714,\n",
       " 0.024638711514814577,\n",
       " 0.024640720336467567,\n",
       " 0.024642193822849406,\n",
       " 0.02463304431329825,\n",
       " 0.024650888270648996,\n",
       " 0.024649397846176535,\n",
       " 0.024655955160672056,\n",
       " 0.024675111908349017,\n",
       " 0.024675384767539773,\n",
       " 0.02467325901960986,\n",
       " 0.024683403079832068,\n",
       " 0.024677996538754382]"
      ]
     },
     "execution_count": 22,
     "metadata": {},
     "output_type": "execute_result"
    }
   ],
   "source": [
    "grid_cat['cv_results']['test-Logloss-mean']"
   ]
  },
  {
   "cell_type": "code",
   "execution_count": 23,
   "metadata": {},
   "outputs": [
    {
     "name": "stdout",
     "output_type": "stream",
     "text": [
      "Melhores parametros: {'depth': 9, 'learning_rate': 0.1, 'l2_leaf_reg': 5, 'iterations': 300} Score: [0.4367745714096049, 0.2838888584669405, 0.18486685683608908, 0.12770619012021825, 0.09333006092375805, 0.07296905463961208, 0.06025660375932421, 0.0516975671313766, 0.04622805163346866, 0.04239183127764645, 0.039952741417662405, 0.03766901512137954, 0.0363182947924083, 0.03507474973679025, 0.03387306312326049, 0.03309413280038704, 0.03243152553518989, 0.03181707168920283, 0.03127972911816037, 0.030861135163456902, 0.03041188021039361, 0.030053117482783193, 0.029819964092775087, 0.029522255074962298, 0.029254102299981762, 0.02898938553223565, 0.02880254486358044, 0.0286331381037737, 0.028473693323916333, 0.028385548920269135, 0.028252516367249857, 0.02810577982240837, 0.027981732654733776, 0.02787317901869658, 0.02777621156037191, 0.027708830694387926, 0.027617678670430783, 0.027520921670204382, 0.027447289344104887, 0.027385679054019518, 0.02726448679444725, 0.02717486430246903, 0.027164412423846544, 0.027094987326358667, 0.027005400697129648, 0.026922985352779902, 0.02683705849808997, 0.026706036846805767, 0.026626528381427494, 0.026586528051185106, 0.026502712622750644, 0.02643129100577764, 0.026334155685706778, 0.026297627286510167, 0.026242933666878205, 0.026204294643282264, 0.026165543438572997, 0.026120980015659, 0.026098269288537132, 0.026025939879503888, 0.02598161521052846, 0.025926394170319996, 0.025868910660040434, 0.025833749248173717, 0.025792286914973872, 0.025731461240136977, 0.025678091026631624, 0.02566450883507217, 0.025614272186671158, 0.02558737935296121, 0.025534873964179212, 0.025511510831720614, 0.02548388981572089, 0.025437505903922967, 0.025402139202971515, 0.02542157662703919, 0.02542205809845313, 0.02540841798753583, 0.025358699913260604, 0.02534008210774136, 0.025319884369372724, 0.02529463130976603, 0.025250262883393052, 0.025230579002431416, 0.025238671721622186, 0.025221769180103007, 0.0252223762141205, 0.02520728470764602, 0.025165836347357886, 0.025170682497429087, 0.025128718390341722, 0.025113911711027725, 0.025097515788976715, 0.025074244769086696, 0.025039593311678515, 0.024991083828836896, 0.024961989443098177, 0.02495247968054387, 0.02494711219355233, 0.024941997540963667, 0.024920586139568397, 0.024906174877947804, 0.024893827732951814, 0.02485436922803871, 0.024830116106091763, 0.024807489627877505, 0.024794542675410754, 0.024769928060974094, 0.024737013315442567, 0.024714075276852123, 0.024703738547360268, 0.024699182026913794, 0.02470447009497878, 0.024695818297988083, 0.024694409904732484, 0.02469212284848815, 0.02466559544190899, 0.024673678432621905, 0.024665807754192942, 0.024668971827831166, 0.024675118745506045, 0.02467966873032243, 0.02466853230165608, 0.024650300135503442, 0.024640215673411958, 0.024623757409494334, 0.024611103010763958, 0.02458639991322818, 0.02457391333635912, 0.02455869167778475, 0.024554158821448128, 0.02453844769919274, 0.02451503636431912, 0.024507335499939362, 0.0245031366561011, 0.024468687458228004, 0.02448038880220296, 0.024463370026307798, 0.02447144176032139, 0.024475383776572743, 0.024458595853436942, 0.02446200659583428, 0.024463979241545475, 0.024466029227183637, 0.024448581567422578, 0.02443989945152109, 0.024441219919348552, 0.024445223874614837, 0.024444312231253425, 0.024440475902472034, 0.024439464422211763, 0.024424536495376792, 0.024418068848827263, 0.024394672913945658, 0.0243925634771926, 0.024394262363060065, 0.024386366191770537, 0.024379409180535026, 0.024376516485907742, 0.02438127673519651, 0.024378734919961436, 0.024378607207263578, 0.02437422580273428, 0.024353732006914153, 0.024346198123714923, 0.0243299469734209, 0.02430874532303412, 0.02430429515626935, 0.024308329867100853, 0.02429966646486523, 0.02430160597062001, 0.024300152497172624, 0.024293061065684938, 0.02429337474335556, 0.024278013053043068, 0.024284688417149647, 0.024287144573343983, 0.024297808462329883, 0.02429295974107371, 0.02428556466074656, 0.024283568708573594, 0.024283301717909735, 0.02429195164786758, 0.024284234888510656, 0.024287798942603894, 0.024288875794777814, 0.024287314961518935, 0.024284976256133007, 0.024277061300740883, 0.024277519473622975, 0.02428031037905037, 0.024288527265088584, 0.02428598764651783, 0.024286375621767, 0.024256769210576495, 0.024263388368675653, 0.024258240320633496, 0.02426773576358734, 0.02428555983682321, 0.02429143663987086, 0.02430145119568107, 0.02432794952105535, 0.02433990378816127, 0.02434230188426642, 0.02434904020444288, 0.024360642624056027, 0.024377181954088112, 0.02437280315009463, 0.02437115349845798, 0.024372397837531746, 0.024380530086928438, 0.02437762355433451, 0.024386985166937103, 0.024376188393076495, 0.024387329991220067, 0.02438005384670937, 0.024367706023657804, 0.02437577933041156, 0.02437236003650381, 0.024374811503404332, 0.024381256897540157, 0.02438600791312491, 0.024400948085492664, 0.02439637532358253, 0.024398678577438455, 0.02439092714230175, 0.02438943912609332, 0.024396971820847903, 0.024390469986982157, 0.024382096035649007, 0.024383126158390344, 0.024402686191802747, 0.02440723777955617, 0.02440070139408099, 0.024407165306093066, 0.024416264902501848, 0.02440900748799131, 0.024417302610032138, 0.024412880773977057, 0.024414863082760502, 0.024409219896768364, 0.02440992116344672, 0.024409906473877547, 0.024413886391279765, 0.02441697887847079, 0.02441752014275121, 0.024418910027226255, 0.02442621855329076, 0.024432410231111312, 0.02443308147883114, 0.024426723032578364, 0.0244276734194707, 0.02444345634459916, 0.024438112527996214, 0.02444862598837386, 0.024453827807306764, 0.02445612306760947, 0.02446938278243826, 0.024483569140473355, 0.024479336831217988, 0.024487357502870424, 0.02450067926454012, 0.024499860641609528, 0.024516271794889872, 0.024517553643793804, 0.024534811099360555, 0.02454400094518384, 0.024545218021611484, 0.02453557743847382, 0.024543890116605932, 0.02454918341105779, 0.024554014519187678, 0.024562021716279994, 0.02456301724919882, 0.024570745223074772, 0.02457382266486319, 0.02457767886527454, 0.024580589233774125, 0.024588198978685444, 0.024595607372512374, 0.0245953478976154, 0.024598683050740106, 0.02459915888534893, 0.024608743813473843, 0.024616657405807842, 0.02461984005778529, 0.024621641721524267, 0.024640966910169714, 0.024638711514814577, 0.024640720336467567, 0.024642193822849406, 0.02463304431329825, 0.024650888270648996, 0.024649397846176535, 0.024655955160672056, 0.024675111908349017, 0.024675384767539773, 0.02467325901960986, 0.024683403079832068, 0.024677996538754382]\n"
     ]
    }
   ],
   "source": [
    "print('Melhores parametros:',grid_cat['params'],'Score:',grid_cat['cv_results']['test-Logloss-mean']) #bayes_cat.best_params_,bayes_cat.best_score_"
   ]
  },
  {
   "cell_type": "code",
   "execution_count": null,
   "metadata": {},
   "outputs": [],
   "source": [
    "cat_model = CatBoostClassifier(**grid_cat['params'])\n",
    "cat_model.fit(x_treino, y_treino)"
   ]
  },
  {
   "cell_type": "code",
   "execution_count": 31,
   "metadata": {},
   "outputs": [],
   "source": [
    "cat_model.save_model(\"modelos_salvos/cat_boost_model.cbm\")"
   ]
  },
  {
   "cell_type": "markdown",
   "metadata": {},
   "source": [
    "## Random Forest"
   ]
  },
  {
   "cell_type": "code",
   "execution_count": 8,
   "metadata": {},
   "outputs": [
    {
     "data": {
      "text/html": [
       "<style>#sk-container-id-2 {color: black;}#sk-container-id-2 pre{padding: 0;}#sk-container-id-2 div.sk-toggleable {background-color: white;}#sk-container-id-2 label.sk-toggleable__label {cursor: pointer;display: block;width: 100%;margin-bottom: 0;padding: 0.3em;box-sizing: border-box;text-align: center;}#sk-container-id-2 label.sk-toggleable__label-arrow:before {content: \"▸\";float: left;margin-right: 0.25em;color: #696969;}#sk-container-id-2 label.sk-toggleable__label-arrow:hover:before {color: black;}#sk-container-id-2 div.sk-estimator:hover label.sk-toggleable__label-arrow:before {color: black;}#sk-container-id-2 div.sk-toggleable__content {max-height: 0;max-width: 0;overflow: hidden;text-align: left;background-color: #f0f8ff;}#sk-container-id-2 div.sk-toggleable__content pre {margin: 0.2em;color: black;border-radius: 0.25em;background-color: #f0f8ff;}#sk-container-id-2 input.sk-toggleable__control:checked~div.sk-toggleable__content {max-height: 200px;max-width: 100%;overflow: auto;}#sk-container-id-2 input.sk-toggleable__control:checked~label.sk-toggleable__label-arrow:before {content: \"▾\";}#sk-container-id-2 div.sk-estimator input.sk-toggleable__control:checked~label.sk-toggleable__label {background-color: #d4ebff;}#sk-container-id-2 div.sk-label input.sk-toggleable__control:checked~label.sk-toggleable__label {background-color: #d4ebff;}#sk-container-id-2 input.sk-hidden--visually {border: 0;clip: rect(1px 1px 1px 1px);clip: rect(1px, 1px, 1px, 1px);height: 1px;margin: -1px;overflow: hidden;padding: 0;position: absolute;width: 1px;}#sk-container-id-2 div.sk-estimator {font-family: monospace;background-color: #f0f8ff;border: 1px dotted black;border-radius: 0.25em;box-sizing: border-box;margin-bottom: 0.5em;}#sk-container-id-2 div.sk-estimator:hover {background-color: #d4ebff;}#sk-container-id-2 div.sk-parallel-item::after {content: \"\";width: 100%;border-bottom: 1px solid gray;flex-grow: 1;}#sk-container-id-2 div.sk-label:hover label.sk-toggleable__label {background-color: #d4ebff;}#sk-container-id-2 div.sk-serial::before {content: \"\";position: absolute;border-left: 1px solid gray;box-sizing: border-box;top: 0;bottom: 0;left: 50%;z-index: 0;}#sk-container-id-2 div.sk-serial {display: flex;flex-direction: column;align-items: center;background-color: white;padding-right: 0.2em;padding-left: 0.2em;position: relative;}#sk-container-id-2 div.sk-item {position: relative;z-index: 1;}#sk-container-id-2 div.sk-parallel {display: flex;align-items: stretch;justify-content: center;background-color: white;position: relative;}#sk-container-id-2 div.sk-item::before, #sk-container-id-2 div.sk-parallel-item::before {content: \"\";position: absolute;border-left: 1px solid gray;box-sizing: border-box;top: 0;bottom: 0;left: 50%;z-index: -1;}#sk-container-id-2 div.sk-parallel-item {display: flex;flex-direction: column;z-index: 1;position: relative;background-color: white;}#sk-container-id-2 div.sk-parallel-item:first-child::after {align-self: flex-end;width: 50%;}#sk-container-id-2 div.sk-parallel-item:last-child::after {align-self: flex-start;width: 50%;}#sk-container-id-2 div.sk-parallel-item:only-child::after {width: 0;}#sk-container-id-2 div.sk-dashed-wrapped {border: 1px dashed gray;margin: 0 0.4em 0.5em 0.4em;box-sizing: border-box;padding-bottom: 0.4em;background-color: white;}#sk-container-id-2 div.sk-label label {font-family: monospace;font-weight: bold;display: inline-block;line-height: 1.2em;}#sk-container-id-2 div.sk-label-container {text-align: center;}#sk-container-id-2 div.sk-container {/* jupyter's `normalize.less` sets `[hidden] { display: none; }` but bootstrap.min.css set `[hidden] { display: none !important; }` so we also need the `!important` here to be able to override the default hidden behavior on the sphinx rendered scikit-learn.org. See: https://github.com/scikit-learn/scikit-learn/issues/21755 */display: inline-block !important;position: relative;}#sk-container-id-2 div.sk-text-repr-fallback {display: none;}</style><div id=\"sk-container-id-2\" class=\"sk-top-container\"><div class=\"sk-text-repr-fallback\"><pre>RandomizedSearchCV(estimator=RandomForestClassifier(),\n",
       "                   param_distributions={&#x27;criterion&#x27;: [&#x27;gini&#x27;, &#x27;entropy&#x27;],\n",
       "                                        &#x27;max_depth&#x27;: [1, 2, 60, 70, 80, 90,\n",
       "                                                      100],\n",
       "                                        &#x27;max_features&#x27;: [1, 3, 4, 5, 6, 8, 10],\n",
       "                                        &#x27;n_estimators&#x27;: [10, 20, 30, 40, 50, 60,\n",
       "                                                         70, 80, 90, 100]},\n",
       "                   scoring=&#x27;recall&#x27;)</pre><b>In a Jupyter environment, please rerun this cell to show the HTML representation or trust the notebook. <br />On GitHub, the HTML representation is unable to render, please try loading this page with nbviewer.org.</b></div><div class=\"sk-container\" hidden><div class=\"sk-item sk-dashed-wrapped\"><div class=\"sk-label-container\"><div class=\"sk-label sk-toggleable\"><input class=\"sk-toggleable__control sk-hidden--visually\" id=\"sk-estimator-id-4\" type=\"checkbox\" ><label for=\"sk-estimator-id-4\" class=\"sk-toggleable__label sk-toggleable__label-arrow\">RandomizedSearchCV</label><div class=\"sk-toggleable__content\"><pre>RandomizedSearchCV(estimator=RandomForestClassifier(),\n",
       "                   param_distributions={&#x27;criterion&#x27;: [&#x27;gini&#x27;, &#x27;entropy&#x27;],\n",
       "                                        &#x27;max_depth&#x27;: [1, 2, 60, 70, 80, 90,\n",
       "                                                      100],\n",
       "                                        &#x27;max_features&#x27;: [1, 3, 4, 5, 6, 8, 10],\n",
       "                                        &#x27;n_estimators&#x27;: [10, 20, 30, 40, 50, 60,\n",
       "                                                         70, 80, 90, 100]},\n",
       "                   scoring=&#x27;recall&#x27;)</pre></div></div></div><div class=\"sk-parallel\"><div class=\"sk-parallel-item\"><div class=\"sk-item\"><div class=\"sk-label-container\"><div class=\"sk-label sk-toggleable\"><input class=\"sk-toggleable__control sk-hidden--visually\" id=\"sk-estimator-id-5\" type=\"checkbox\" ><label for=\"sk-estimator-id-5\" class=\"sk-toggleable__label sk-toggleable__label-arrow\">estimator: RandomForestClassifier</label><div class=\"sk-toggleable__content\"><pre>RandomForestClassifier()</pre></div></div></div><div class=\"sk-serial\"><div class=\"sk-item\"><div class=\"sk-estimator sk-toggleable\"><input class=\"sk-toggleable__control sk-hidden--visually\" id=\"sk-estimator-id-6\" type=\"checkbox\" ><label for=\"sk-estimator-id-6\" class=\"sk-toggleable__label sk-toggleable__label-arrow\">RandomForestClassifier</label><div class=\"sk-toggleable__content\"><pre>RandomForestClassifier()</pre></div></div></div></div></div></div></div></div></div></div>"
      ],
      "text/plain": [
       "RandomizedSearchCV(estimator=RandomForestClassifier(),\n",
       "                   param_distributions={'criterion': ['gini', 'entropy'],\n",
       "                                        'max_depth': [1, 2, 60, 70, 80, 90,\n",
       "                                                      100],\n",
       "                                        'max_features': [1, 3, 4, 5, 6, 8, 10],\n",
       "                                        'n_estimators': [10, 20, 30, 40, 50, 60,\n",
       "                                                         70, 80, 90, 100]},\n",
       "                   scoring='recall')"
      ]
     },
     "execution_count": 8,
     "metadata": {},
     "output_type": "execute_result"
    }
   ],
   "source": [
    "parametros_random = {'n_estimators': [10, 20, 30, 40, 50, 60, 70, 80, 90, 100],\n",
    "            'max_depth': [1,2,60,70,80,90,100],\n",
    "            'max_features': [1, 3, 4,5,6,8,10],\n",
    "            'criterion':['gini','entropy'],\n",
    "                 }\n",
    "grid_random = RandomizedSearchCV(\n",
    "            RandomForestClassifier(), parametros_random,verbose=0, scoring=\"recall\"\n",
    "        )\n",
    "grid_random.fit(x_treino, y_treino.values)"
   ]
  },
  {
   "cell_type": "code",
   "execution_count": 9,
   "metadata": {},
   "outputs": [
    {
     "data": {
      "text/html": [
       "<style>#sk-container-id-3 {color: black;}#sk-container-id-3 pre{padding: 0;}#sk-container-id-3 div.sk-toggleable {background-color: white;}#sk-container-id-3 label.sk-toggleable__label {cursor: pointer;display: block;width: 100%;margin-bottom: 0;padding: 0.3em;box-sizing: border-box;text-align: center;}#sk-container-id-3 label.sk-toggleable__label-arrow:before {content: \"▸\";float: left;margin-right: 0.25em;color: #696969;}#sk-container-id-3 label.sk-toggleable__label-arrow:hover:before {color: black;}#sk-container-id-3 div.sk-estimator:hover label.sk-toggleable__label-arrow:before {color: black;}#sk-container-id-3 div.sk-toggleable__content {max-height: 0;max-width: 0;overflow: hidden;text-align: left;background-color: #f0f8ff;}#sk-container-id-3 div.sk-toggleable__content pre {margin: 0.2em;color: black;border-radius: 0.25em;background-color: #f0f8ff;}#sk-container-id-3 input.sk-toggleable__control:checked~div.sk-toggleable__content {max-height: 200px;max-width: 100%;overflow: auto;}#sk-container-id-3 input.sk-toggleable__control:checked~label.sk-toggleable__label-arrow:before {content: \"▾\";}#sk-container-id-3 div.sk-estimator input.sk-toggleable__control:checked~label.sk-toggleable__label {background-color: #d4ebff;}#sk-container-id-3 div.sk-label input.sk-toggleable__control:checked~label.sk-toggleable__label {background-color: #d4ebff;}#sk-container-id-3 input.sk-hidden--visually {border: 0;clip: rect(1px 1px 1px 1px);clip: rect(1px, 1px, 1px, 1px);height: 1px;margin: -1px;overflow: hidden;padding: 0;position: absolute;width: 1px;}#sk-container-id-3 div.sk-estimator {font-family: monospace;background-color: #f0f8ff;border: 1px dotted black;border-radius: 0.25em;box-sizing: border-box;margin-bottom: 0.5em;}#sk-container-id-3 div.sk-estimator:hover {background-color: #d4ebff;}#sk-container-id-3 div.sk-parallel-item::after {content: \"\";width: 100%;border-bottom: 1px solid gray;flex-grow: 1;}#sk-container-id-3 div.sk-label:hover label.sk-toggleable__label {background-color: #d4ebff;}#sk-container-id-3 div.sk-serial::before {content: \"\";position: absolute;border-left: 1px solid gray;box-sizing: border-box;top: 0;bottom: 0;left: 50%;z-index: 0;}#sk-container-id-3 div.sk-serial {display: flex;flex-direction: column;align-items: center;background-color: white;padding-right: 0.2em;padding-left: 0.2em;position: relative;}#sk-container-id-3 div.sk-item {position: relative;z-index: 1;}#sk-container-id-3 div.sk-parallel {display: flex;align-items: stretch;justify-content: center;background-color: white;position: relative;}#sk-container-id-3 div.sk-item::before, #sk-container-id-3 div.sk-parallel-item::before {content: \"\";position: absolute;border-left: 1px solid gray;box-sizing: border-box;top: 0;bottom: 0;left: 50%;z-index: -1;}#sk-container-id-3 div.sk-parallel-item {display: flex;flex-direction: column;z-index: 1;position: relative;background-color: white;}#sk-container-id-3 div.sk-parallel-item:first-child::after {align-self: flex-end;width: 50%;}#sk-container-id-3 div.sk-parallel-item:last-child::after {align-self: flex-start;width: 50%;}#sk-container-id-3 div.sk-parallel-item:only-child::after {width: 0;}#sk-container-id-3 div.sk-dashed-wrapped {border: 1px dashed gray;margin: 0 0.4em 0.5em 0.4em;box-sizing: border-box;padding-bottom: 0.4em;background-color: white;}#sk-container-id-3 div.sk-label label {font-family: monospace;font-weight: bold;display: inline-block;line-height: 1.2em;}#sk-container-id-3 div.sk-label-container {text-align: center;}#sk-container-id-3 div.sk-container {/* jupyter's `normalize.less` sets `[hidden] { display: none; }` but bootstrap.min.css set `[hidden] { display: none !important; }` so we also need the `!important` here to be able to override the default hidden behavior on the sphinx rendered scikit-learn.org. See: https://github.com/scikit-learn/scikit-learn/issues/21755 */display: inline-block !important;position: relative;}#sk-container-id-3 div.sk-text-repr-fallback {display: none;}</style><div id=\"sk-container-id-3\" class=\"sk-top-container\"><div class=\"sk-text-repr-fallback\"><pre>RandomForestClassifier(max_depth=70, max_features=6, n_estimators=70)</pre><b>In a Jupyter environment, please rerun this cell to show the HTML representation or trust the notebook. <br />On GitHub, the HTML representation is unable to render, please try loading this page with nbviewer.org.</b></div><div class=\"sk-container\" hidden><div class=\"sk-item\"><div class=\"sk-estimator sk-toggleable\"><input class=\"sk-toggleable__control sk-hidden--visually\" id=\"sk-estimator-id-7\" type=\"checkbox\" checked><label for=\"sk-estimator-id-7\" class=\"sk-toggleable__label sk-toggleable__label-arrow\">RandomForestClassifier</label><div class=\"sk-toggleable__content\"><pre>RandomForestClassifier(max_depth=70, max_features=6, n_estimators=70)</pre></div></div></div></div></div>"
      ],
      "text/plain": [
       "RandomForestClassifier(max_depth=70, max_features=6, n_estimators=70)"
      ]
     },
     "execution_count": 9,
     "metadata": {},
     "output_type": "execute_result"
    }
   ],
   "source": [
    "rando_model = RandomForestClassifier(**grid_random.best_params_)\n",
    "rando_model.fit(x_treino, y_treino.values)"
   ]
  },
  {
   "cell_type": "code",
   "execution_count": 10,
   "metadata": {},
   "outputs": [
    {
     "data": {
      "text/plain": [
       "['modelos_salvos/random_forest_model.pkl']"
      ]
     },
     "execution_count": 10,
     "metadata": {},
     "output_type": "execute_result"
    }
   ],
   "source": [
    "joblib.dump(rando_model, 'modelos_salvos/random_forest_model.pkl')"
   ]
  },
  {
   "cell_type": "markdown",
   "metadata": {},
   "source": [
    "## Redes Sequencial"
   ]
  },
  {
   "cell_type": "code",
   "execution_count": 23,
   "metadata": {},
   "outputs": [],
   "source": [
    "def build_model(hp,camadas_ocultas=4):\n",
    "    model = keras.Sequential()\n",
    "    # Primeira camada com input_shape especificado corretamente\n",
    "    model.add(keras.layers.Dense(\n",
    "          hp.Choice('units', [8, 16, 32,50,64,100]),\n",
    "          activation='relu',input_shape=(x_treino.shape[1],)))\n",
    "    # Camadas ocultas adicionais\n",
    "    for _ in range(camadas_ocultas):\n",
    "        model.add(keras.layers.Dense(\n",
    "            hp.Choice('units', [8, 16, 32,50, 64,100]),\n",
    "            activation='relu'))\n",
    "    # Camada de saída\n",
    "    model.add(keras.layers.Dense(1, activation='sigmoid'))\n",
    "    # Definição do otimizador\n",
    "    opt = keras.optimizers.SGD(learning_rate= hp.Choice(\"learning_rate\", [0.001, 0.01, 0.02 ,0.05,0.1, 0.2, 0.3]))\n",
    "    # Compilação do modelo\n",
    "    model.compile(loss='binary_crossentropy', optimizer=opt, metrics=['accuracy', 'Recall'])\n",
    "    return model\n",
    "\n",
    "tuner = keras_tuner.RandomSearch(\n",
    "    build_model,\n",
    "    objective='val_loss',\n",
    "    max_trials=5,)"
   ]
  },
  {
   "cell_type": "code",
   "execution_count": 24,
   "metadata": {},
   "outputs": [],
   "source": [
    "tuner.search(x_treino, y_treino, epochs=10, validation_data=(x_teste, y_teste),verbose=0)\n",
    "best_model = tuner.get_best_models()[0]"
   ]
  },
  {
   "cell_type": "code",
   "execution_count": 26,
   "metadata": {},
   "outputs": [
    {
     "name": "stderr",
     "output_type": "stream",
     "text": [
      "WARNING:absl:You are saving your model as an HDF5 file via `model.save()` or `keras.saving.save_model(model)`. This file format is considered legacy. We recommend using instead the native Keras format, e.g. `model.save('my_model.keras')` or `keras.saving.save_model(model, 'my_model.keras')`. \n"
     ]
    }
   ],
   "source": [
    "best_model.save(\"modelos_salvos/redes_neurais_model.h5\")"
   ]
  }
 ],
 "metadata": {
  "kernelspec": {
   "display_name": "env",
   "language": "python",
   "name": "python3"
  },
  "language_info": {
   "codemirror_mode": {
    "name": "ipython",
    "version": 3
   },
   "file_extension": ".py",
   "mimetype": "text/x-python",
   "name": "python",
   "nbconvert_exporter": "python",
   "pygments_lexer": "ipython3",
   "version": "3.12.3"
  }
 },
 "nbformat": 4,
 "nbformat_minor": 2
}
