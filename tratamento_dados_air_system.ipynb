{
 "cells": [
  {
   "cell_type": "markdown",
   "metadata": {},
   "source": [
    "# Importacao dos bibliotecas"
   ]
  },
  {
   "cell_type": "code",
   "execution_count": 20,
   "metadata": {},
   "outputs": [],
   "source": [
    "import pandas as pd\n",
    "import numpy as np\n",
    "import matplotlib.pyplot as plt\n",
    "import seaborn as sns\n",
    "import plotly.express as px\n",
    "import plotly.graph_objects as go\n",
    "from sklearn.impute import SimpleImputer\n",
    "from imblearn.over_sampling import RandomOverSampler\n",
    "from sklearn.feature_selection import RFE, VarianceThreshold\n",
    "from feature_engine.selection import SmartCorrelatedSelection\n",
    "from sklearn.ensemble import RandomForestClassifier\n",
    "import warnings\n",
    "from imblearn.pipeline import Pipeline\n",
    "from sklearn.preprocessing import StandardScaler\n",
    "from sklearn.impute import SimpleImputer\n",
    "import pickle\n",
    "import os\n",
    "warnings.filterwarnings(\"ignore\", category=FutureWarning, module=\"seaborn\")\n",
    "warnings.simplefilter(action=\"ignore\", category=FutureWarning)"
   ]
  },
  {
   "cell_type": "markdown",
   "metadata": {},
   "source": [
    "# Coleta dos dados"
   ]
  },
  {
   "cell_type": "code",
   "execution_count": 3,
   "metadata": {},
   "outputs": [],
   "source": [
    "teste = pd.read_csv(\"dados/air_system_present_year.csv\")\n",
    "treino = pd.read_csv(\"dados/air_system_previous_years.csv\")"
   ]
  },
  {
   "cell_type": "markdown",
   "metadata": {},
   "source": [
    "# Tratando os dados"
   ]
  },
  {
   "cell_type": "code",
   "execution_count": 4,
   "metadata": {},
   "outputs": [],
   "source": [
    "treino_trat = treino.copy()\n",
    "test_trat = teste.copy()"
   ]
  },
  {
   "cell_type": "code",
   "execution_count": 5,
   "metadata": {},
   "outputs": [],
   "source": [
    "# Tratamento dos dados \n",
    "## Remover colunas com valores ausentes e 0 maior de 40%\n",
    "def remove_valores_ausentes_zero(treino, teste, label):\n",
    "    lista_valores_ausentes_zero = []\n",
    "    for coluna in treino.columns:\n",
    "        if coluna == label:\n",
    "            continue\n",
    "        else:\n",
    "            if (treino[coluna].isnull().sum() + sum(treino[coluna] == 0)) / len(\n",
    "                treino\n",
    "            ) >= 0.4:\n",
    "                lista_valores_ausentes_zero.append(coluna)\n",
    "    treino.drop(columns=lista_valores_ausentes_zero, inplace=True)\n",
    "    teste.drop(columns=lista_valores_ausentes_zero, inplace=True)\n",
    "    ## Selecionar linhas com pelo menos 50 colunas preenchidas\n",
    "    treino = treino[treino.notnull().sum(axis=1) >= 50]\n",
    "    teste = teste[teste.notnull().sum(axis=1) >= 50]\n",
    "    return treino, teste\n",
    "\n",
    "\n",
    "def colunas_numericas(treino, teste, label):\n",
    "    for coluna in treino.columns:\n",
    "        if coluna == label:\n",
    "            continue\n",
    "        else:\n",
    "            treino[coluna] = pd.to_numeric(treino[coluna], errors=\"coerce\")\n",
    "            teste[coluna] = pd.to_numeric(teste[coluna], errors=\"coerce\")\n",
    "    return treino, teste"
   ]
  },
  {
   "cell_type": "code",
   "execution_count": 37,
   "metadata": {},
   "outputs": [
    {
     "name": "stdout",
     "output_type": "stream",
     "text": [
      "Shape do x_treino: (59606, 99)\n",
      "Shape do y_treino: (59606,)\n",
      "Shape do x_teste: (15891, 99)\n",
      "Shape do y_teste: (15891,)\n"
     ]
    }
   ],
   "source": [
    "treino_trat = treino.copy()\n",
    "test_trat = teste.copy()\n",
    "##Transformar colunas em numéricas\n",
    "treino_trat, test_trat = colunas_numericas(treino_trat, test_trat, \"class\")\n",
    "## Remover colunas com valores ausentes e 0 maior de 40% e Selecionar linhas com pelo menos 50 colunas preenchidas\n",
    "treino_trat, test_trat = remove_valores_ausentes_zero(treino_trat, test_trat, \"class\")\n",
    "##Transfomando as classes em numericas\n",
    "treino_trat[\"class\"] = np.where(treino_trat[\"class\"] == \"pos\", 1, 0)\n",
    "test_trat[\"class\"] = np.where(test_trat[\"class\"] == \"pos\", 1, 0)\n",
    "\n",
    "## Divisao e y e x\n",
    "y_treino = treino_trat[\"class\"]\n",
    "x_treino = treino_trat.drop(columns=\"class\")\n",
    "y_teste = test_trat[\"class\"]\n",
    "x_teste = test_trat.drop(columns=\"class\")\n",
    "\n",
    "print(\"Shape do x_treino:\", x_treino.shape)\n",
    "print(\"Shape do y_treino:\", y_treino.shape)\n",
    "print(\"Shape do x_teste:\", x_teste.shape)\n",
    "print(\"Shape do y_teste:\", y_teste.shape)"
   ]
  },
  {
   "cell_type": "code",
   "execution_count": 34,
   "metadata": {},
   "outputs": [
    {
     "data": {
      "text/html": [
       "<div>\n",
       "<style scoped>\n",
       "    .dataframe tbody tr th:only-of-type {\n",
       "        vertical-align: middle;\n",
       "    }\n",
       "\n",
       "    .dataframe tbody tr th {\n",
       "        vertical-align: top;\n",
       "    }\n",
       "\n",
       "    .dataframe thead th {\n",
       "        text-align: right;\n",
       "    }\n",
       "</style>\n",
       "<table border=\"1\" class=\"dataframe\">\n",
       "  <thead>\n",
       "    <tr style=\"text-align: right;\">\n",
       "      <th></th>\n",
       "      <th>aa_000</th>\n",
       "      <th>ac_000</th>\n",
       "      <th>ad_000</th>\n",
       "      <th>ag_004</th>\n",
       "      <th>ag_005</th>\n",
       "      <th>ag_006</th>\n",
       "      <th>ag_007</th>\n",
       "      <th>ah_000</th>\n",
       "      <th>an_000</th>\n",
       "      <th>ao_000</th>\n",
       "      <th>...</th>\n",
       "      <th>ed_000</th>\n",
       "      <th>ee_000</th>\n",
       "      <th>ee_001</th>\n",
       "      <th>ee_002</th>\n",
       "      <th>ee_003</th>\n",
       "      <th>ee_004</th>\n",
       "      <th>ee_005</th>\n",
       "      <th>ee_006</th>\n",
       "      <th>ee_007</th>\n",
       "      <th>ee_008</th>\n",
       "    </tr>\n",
       "  </thead>\n",
       "  <tbody>\n",
       "    <tr>\n",
       "      <th>0</th>\n",
       "      <td>76698</td>\n",
       "      <td>2.130706e+09</td>\n",
       "      <td>280.0</td>\n",
       "      <td>37250.0</td>\n",
       "      <td>1432864.0</td>\n",
       "      <td>3664156.0</td>\n",
       "      <td>1007684.0</td>\n",
       "      <td>2551696.0</td>\n",
       "      <td>4933296.0</td>\n",
       "      <td>3655166.0</td>\n",
       "      <td>...</td>\n",
       "      <td>2712.0</td>\n",
       "      <td>965866.0</td>\n",
       "      <td>1706908.0</td>\n",
       "      <td>1240520.0</td>\n",
       "      <td>493384.0</td>\n",
       "      <td>721044.0</td>\n",
       "      <td>469792.0</td>\n",
       "      <td>339156.0</td>\n",
       "      <td>157956.0</td>\n",
       "      <td>73224.0</td>\n",
       "    </tr>\n",
       "    <tr>\n",
       "      <th>1</th>\n",
       "      <td>33058</td>\n",
       "      <td>0.000000e+00</td>\n",
       "      <td>NaN</td>\n",
       "      <td>18254.0</td>\n",
       "      <td>653294.0</td>\n",
       "      <td>1720800.0</td>\n",
       "      <td>516724.0</td>\n",
       "      <td>1393352.0</td>\n",
       "      <td>2560898.0</td>\n",
       "      <td>2127150.0</td>\n",
       "      <td>...</td>\n",
       "      <td>2334.0</td>\n",
       "      <td>664504.0</td>\n",
       "      <td>824154.0</td>\n",
       "      <td>421400.0</td>\n",
       "      <td>178064.0</td>\n",
       "      <td>293306.0</td>\n",
       "      <td>245416.0</td>\n",
       "      <td>133654.0</td>\n",
       "      <td>81140.0</td>\n",
       "      <td>97576.0</td>\n",
       "    </tr>\n",
       "    <tr>\n",
       "      <th>2</th>\n",
       "      <td>41040</td>\n",
       "      <td>2.280000e+02</td>\n",
       "      <td>100.0</td>\n",
       "      <td>1648.0</td>\n",
       "      <td>370592.0</td>\n",
       "      <td>1883374.0</td>\n",
       "      <td>292936.0</td>\n",
       "      <td>1234132.0</td>\n",
       "      <td>2371990.0</td>\n",
       "      <td>2173634.0</td>\n",
       "      <td>...</td>\n",
       "      <td>1020.0</td>\n",
       "      <td>262032.0</td>\n",
       "      <td>453378.0</td>\n",
       "      <td>277378.0</td>\n",
       "      <td>159812.0</td>\n",
       "      <td>423992.0</td>\n",
       "      <td>409564.0</td>\n",
       "      <td>320746.0</td>\n",
       "      <td>158022.0</td>\n",
       "      <td>95128.0</td>\n",
       "    </tr>\n",
       "    <tr>\n",
       "      <th>3</th>\n",
       "      <td>12</td>\n",
       "      <td>7.000000e+01</td>\n",
       "      <td>66.0</td>\n",
       "      <td>2212.0</td>\n",
       "      <td>3232.0</td>\n",
       "      <td>1872.0</td>\n",
       "      <td>0.0</td>\n",
       "      <td>2668.0</td>\n",
       "      <td>10184.0</td>\n",
       "      <td>7554.0</td>\n",
       "      <td>...</td>\n",
       "      <td>54.0</td>\n",
       "      <td>5670.0</td>\n",
       "      <td>1566.0</td>\n",
       "      <td>240.0</td>\n",
       "      <td>46.0</td>\n",
       "      <td>58.0</td>\n",
       "      <td>44.0</td>\n",
       "      <td>10.0</td>\n",
       "      <td>0.0</td>\n",
       "      <td>0.0</td>\n",
       "    </tr>\n",
       "    <tr>\n",
       "      <th>4</th>\n",
       "      <td>60874</td>\n",
       "      <td>1.368000e+03</td>\n",
       "      <td>458.0</td>\n",
       "      <td>43752.0</td>\n",
       "      <td>1966618.0</td>\n",
       "      <td>1800340.0</td>\n",
       "      <td>131646.0</td>\n",
       "      <td>1974038.0</td>\n",
       "      <td>3230626.0</td>\n",
       "      <td>2618878.0</td>\n",
       "      <td>...</td>\n",
       "      <td>1176.0</td>\n",
       "      <td>404740.0</td>\n",
       "      <td>904230.0</td>\n",
       "      <td>622012.0</td>\n",
       "      <td>229790.0</td>\n",
       "      <td>405298.0</td>\n",
       "      <td>347188.0</td>\n",
       "      <td>286954.0</td>\n",
       "      <td>311560.0</td>\n",
       "      <td>433954.0</td>\n",
       "    </tr>\n",
       "  </tbody>\n",
       "</table>\n",
       "<p>5 rows × 99 columns</p>\n",
       "</div>"
      ],
      "text/plain": [
       "   aa_000        ac_000  ad_000   ag_004     ag_005     ag_006     ag_007  \\\n",
       "0   76698  2.130706e+09   280.0  37250.0  1432864.0  3664156.0  1007684.0   \n",
       "1   33058  0.000000e+00     NaN  18254.0   653294.0  1720800.0   516724.0   \n",
       "2   41040  2.280000e+02   100.0   1648.0   370592.0  1883374.0   292936.0   \n",
       "3      12  7.000000e+01    66.0   2212.0     3232.0     1872.0        0.0   \n",
       "4   60874  1.368000e+03   458.0  43752.0  1966618.0  1800340.0   131646.0   \n",
       "\n",
       "      ah_000     an_000     ao_000  ...  ed_000    ee_000     ee_001  \\\n",
       "0  2551696.0  4933296.0  3655166.0  ...  2712.0  965866.0  1706908.0   \n",
       "1  1393352.0  2560898.0  2127150.0  ...  2334.0  664504.0   824154.0   \n",
       "2  1234132.0  2371990.0  2173634.0  ...  1020.0  262032.0   453378.0   \n",
       "3     2668.0    10184.0     7554.0  ...    54.0    5670.0     1566.0   \n",
       "4  1974038.0  3230626.0  2618878.0  ...  1176.0  404740.0   904230.0   \n",
       "\n",
       "      ee_002    ee_003    ee_004    ee_005    ee_006    ee_007    ee_008  \n",
       "0  1240520.0  493384.0  721044.0  469792.0  339156.0  157956.0   73224.0  \n",
       "1   421400.0  178064.0  293306.0  245416.0  133654.0   81140.0   97576.0  \n",
       "2   277378.0  159812.0  423992.0  409564.0  320746.0  158022.0   95128.0  \n",
       "3      240.0      46.0      58.0      44.0      10.0       0.0       0.0  \n",
       "4   622012.0  229790.0  405298.0  347188.0  286954.0  311560.0  433954.0  \n",
       "\n",
       "[5 rows x 99 columns]"
      ]
     },
     "execution_count": 34,
     "metadata": {},
     "output_type": "execute_result"
    }
   ],
   "source": [
    "x_treino.head(5)"
   ]
  },
  {
   "cell_type": "code",
   "execution_count": 7,
   "metadata": {},
   "outputs": [],
   "source": [
    "pipe = Pipeline(\n",
    "    [\n",
    "        (\"imputer\", SimpleImputer(strategy=\"median\")),\n",
    "        (\"resampled\", RandomOverSampler(sampling_strategy=1)),\n",
    "        (\"scaler\", StandardScaler()),\n",
    "        (\"variance\", VarianceThreshold(threshold=0.3)),\n",
    "        (\n",
    "            \"correlacao\",\n",
    "            SmartCorrelatedSelection(selection_method=\"variance\", threshold=0.7),\n",
    "        ),\n",
    "        (\"rfe\", RFE(estimator=RandomForestClassifier(), n_features_to_select=20)),\n",
    "        #(\"clf\", RandomForestClassifier()),\n",
    "    ]\n",
    ")"
   ]
  },
  {
   "cell_type": "code",
   "execution_count": 8,
   "metadata": {},
   "outputs": [
    {
     "data": {
      "text/html": [
       "<style>#sk-container-id-1 {color: black;}#sk-container-id-1 pre{padding: 0;}#sk-container-id-1 div.sk-toggleable {background-color: white;}#sk-container-id-1 label.sk-toggleable__label {cursor: pointer;display: block;width: 100%;margin-bottom: 0;padding: 0.3em;box-sizing: border-box;text-align: center;}#sk-container-id-1 label.sk-toggleable__label-arrow:before {content: \"▸\";float: left;margin-right: 0.25em;color: #696969;}#sk-container-id-1 label.sk-toggleable__label-arrow:hover:before {color: black;}#sk-container-id-1 div.sk-estimator:hover label.sk-toggleable__label-arrow:before {color: black;}#sk-container-id-1 div.sk-toggleable__content {max-height: 0;max-width: 0;overflow: hidden;text-align: left;background-color: #f0f8ff;}#sk-container-id-1 div.sk-toggleable__content pre {margin: 0.2em;color: black;border-radius: 0.25em;background-color: #f0f8ff;}#sk-container-id-1 input.sk-toggleable__control:checked~div.sk-toggleable__content {max-height: 200px;max-width: 100%;overflow: auto;}#sk-container-id-1 input.sk-toggleable__control:checked~label.sk-toggleable__label-arrow:before {content: \"▾\";}#sk-container-id-1 div.sk-estimator input.sk-toggleable__control:checked~label.sk-toggleable__label {background-color: #d4ebff;}#sk-container-id-1 div.sk-label input.sk-toggleable__control:checked~label.sk-toggleable__label {background-color: #d4ebff;}#sk-container-id-1 input.sk-hidden--visually {border: 0;clip: rect(1px 1px 1px 1px);clip: rect(1px, 1px, 1px, 1px);height: 1px;margin: -1px;overflow: hidden;padding: 0;position: absolute;width: 1px;}#sk-container-id-1 div.sk-estimator {font-family: monospace;background-color: #f0f8ff;border: 1px dotted black;border-radius: 0.25em;box-sizing: border-box;margin-bottom: 0.5em;}#sk-container-id-1 div.sk-estimator:hover {background-color: #d4ebff;}#sk-container-id-1 div.sk-parallel-item::after {content: \"\";width: 100%;border-bottom: 1px solid gray;flex-grow: 1;}#sk-container-id-1 div.sk-label:hover label.sk-toggleable__label {background-color: #d4ebff;}#sk-container-id-1 div.sk-serial::before {content: \"\";position: absolute;border-left: 1px solid gray;box-sizing: border-box;top: 0;bottom: 0;left: 50%;z-index: 0;}#sk-container-id-1 div.sk-serial {display: flex;flex-direction: column;align-items: center;background-color: white;padding-right: 0.2em;padding-left: 0.2em;position: relative;}#sk-container-id-1 div.sk-item {position: relative;z-index: 1;}#sk-container-id-1 div.sk-parallel {display: flex;align-items: stretch;justify-content: center;background-color: white;position: relative;}#sk-container-id-1 div.sk-item::before, #sk-container-id-1 div.sk-parallel-item::before {content: \"\";position: absolute;border-left: 1px solid gray;box-sizing: border-box;top: 0;bottom: 0;left: 50%;z-index: -1;}#sk-container-id-1 div.sk-parallel-item {display: flex;flex-direction: column;z-index: 1;position: relative;background-color: white;}#sk-container-id-1 div.sk-parallel-item:first-child::after {align-self: flex-end;width: 50%;}#sk-container-id-1 div.sk-parallel-item:last-child::after {align-self: flex-start;width: 50%;}#sk-container-id-1 div.sk-parallel-item:only-child::after {width: 0;}#sk-container-id-1 div.sk-dashed-wrapped {border: 1px dashed gray;margin: 0 0.4em 0.5em 0.4em;box-sizing: border-box;padding-bottom: 0.4em;background-color: white;}#sk-container-id-1 div.sk-label label {font-family: monospace;font-weight: bold;display: inline-block;line-height: 1.2em;}#sk-container-id-1 div.sk-label-container {text-align: center;}#sk-container-id-1 div.sk-container {/* jupyter's `normalize.less` sets `[hidden] { display: none; }` but bootstrap.min.css set `[hidden] { display: none !important; }` so we also need the `!important` here to be able to override the default hidden behavior on the sphinx rendered scikit-learn.org. See: https://github.com/scikit-learn/scikit-learn/issues/21755 */display: inline-block !important;position: relative;}#sk-container-id-1 div.sk-text-repr-fallback {display: none;}</style><div id=\"sk-container-id-1\" class=\"sk-top-container\"><div class=\"sk-text-repr-fallback\"><pre>Pipeline(steps=[(&#x27;imputer&#x27;, SimpleImputer(strategy=&#x27;median&#x27;)),\n",
       "                (&#x27;resampled&#x27;, RandomOverSampler(sampling_strategy=1)),\n",
       "                (&#x27;scaler&#x27;, StandardScaler()),\n",
       "                (&#x27;variance&#x27;, VarianceThreshold(threshold=0.3)),\n",
       "                (&#x27;correlacao&#x27;,\n",
       "                 SmartCorrelatedSelection(selection_method=&#x27;variance&#x27;,\n",
       "                                          threshold=0.7)),\n",
       "                (&#x27;rfe&#x27;,\n",
       "                 RFE(estimator=RandomForestClassifier(),\n",
       "                     n_features_to_select=20))])</pre><b>In a Jupyter environment, please rerun this cell to show the HTML representation or trust the notebook. <br />On GitHub, the HTML representation is unable to render, please try loading this page with nbviewer.org.</b></div><div class=\"sk-container\" hidden><div class=\"sk-item sk-dashed-wrapped\"><div class=\"sk-label-container\"><div class=\"sk-label sk-toggleable\"><input class=\"sk-toggleable__control sk-hidden--visually\" id=\"sk-estimator-id-1\" type=\"checkbox\" ><label for=\"sk-estimator-id-1\" class=\"sk-toggleable__label sk-toggleable__label-arrow\">Pipeline</label><div class=\"sk-toggleable__content\"><pre>Pipeline(steps=[(&#x27;imputer&#x27;, SimpleImputer(strategy=&#x27;median&#x27;)),\n",
       "                (&#x27;resampled&#x27;, RandomOverSampler(sampling_strategy=1)),\n",
       "                (&#x27;scaler&#x27;, StandardScaler()),\n",
       "                (&#x27;variance&#x27;, VarianceThreshold(threshold=0.3)),\n",
       "                (&#x27;correlacao&#x27;,\n",
       "                 SmartCorrelatedSelection(selection_method=&#x27;variance&#x27;,\n",
       "                                          threshold=0.7)),\n",
       "                (&#x27;rfe&#x27;,\n",
       "                 RFE(estimator=RandomForestClassifier(),\n",
       "                     n_features_to_select=20))])</pre></div></div></div><div class=\"sk-serial\"><div class=\"sk-item\"><div class=\"sk-estimator sk-toggleable\"><input class=\"sk-toggleable__control sk-hidden--visually\" id=\"sk-estimator-id-2\" type=\"checkbox\" ><label for=\"sk-estimator-id-2\" class=\"sk-toggleable__label sk-toggleable__label-arrow\">SimpleImputer</label><div class=\"sk-toggleable__content\"><pre>SimpleImputer(strategy=&#x27;median&#x27;)</pre></div></div></div><div class=\"sk-item\"><div class=\"sk-estimator sk-toggleable\"><input class=\"sk-toggleable__control sk-hidden--visually\" id=\"sk-estimator-id-3\" type=\"checkbox\" ><label for=\"sk-estimator-id-3\" class=\"sk-toggleable__label sk-toggleable__label-arrow\">RandomOverSampler</label><div class=\"sk-toggleable__content\"><pre>RandomOverSampler(sampling_strategy=1)</pre></div></div></div><div class=\"sk-item\"><div class=\"sk-estimator sk-toggleable\"><input class=\"sk-toggleable__control sk-hidden--visually\" id=\"sk-estimator-id-4\" type=\"checkbox\" ><label for=\"sk-estimator-id-4\" class=\"sk-toggleable__label sk-toggleable__label-arrow\">StandardScaler</label><div class=\"sk-toggleable__content\"><pre>StandardScaler()</pre></div></div></div><div class=\"sk-item\"><div class=\"sk-estimator sk-toggleable\"><input class=\"sk-toggleable__control sk-hidden--visually\" id=\"sk-estimator-id-5\" type=\"checkbox\" ><label for=\"sk-estimator-id-5\" class=\"sk-toggleable__label sk-toggleable__label-arrow\">VarianceThreshold</label><div class=\"sk-toggleable__content\"><pre>VarianceThreshold(threshold=0.3)</pre></div></div></div><div class=\"sk-item\"><div class=\"sk-estimator sk-toggleable\"><input class=\"sk-toggleable__control sk-hidden--visually\" id=\"sk-estimator-id-6\" type=\"checkbox\" ><label for=\"sk-estimator-id-6\" class=\"sk-toggleable__label sk-toggleable__label-arrow\">SmartCorrelatedSelection</label><div class=\"sk-toggleable__content\"><pre>SmartCorrelatedSelection(selection_method=&#x27;variance&#x27;, threshold=0.7)</pre></div></div></div><div class=\"sk-item sk-dashed-wrapped\"><div class=\"sk-label-container\"><div class=\"sk-label sk-toggleable\"><input class=\"sk-toggleable__control sk-hidden--visually\" id=\"sk-estimator-id-7\" type=\"checkbox\" ><label for=\"sk-estimator-id-7\" class=\"sk-toggleable__label sk-toggleable__label-arrow\">rfe: RFE</label><div class=\"sk-toggleable__content\"><pre>RFE(estimator=RandomForestClassifier(), n_features_to_select=20)</pre></div></div></div><div class=\"sk-parallel\"><div class=\"sk-parallel-item\"><div class=\"sk-item\"><div class=\"sk-label-container\"><div class=\"sk-label sk-toggleable\"><input class=\"sk-toggleable__control sk-hidden--visually\" id=\"sk-estimator-id-8\" type=\"checkbox\" ><label for=\"sk-estimator-id-8\" class=\"sk-toggleable__label sk-toggleable__label-arrow\">estimator: RandomForestClassifier</label><div class=\"sk-toggleable__content\"><pre>RandomForestClassifier()</pre></div></div></div><div class=\"sk-serial\"><div class=\"sk-item\"><div class=\"sk-estimator sk-toggleable\"><input class=\"sk-toggleable__control sk-hidden--visually\" id=\"sk-estimator-id-9\" type=\"checkbox\" ><label for=\"sk-estimator-id-9\" class=\"sk-toggleable__label sk-toggleable__label-arrow\">RandomForestClassifier</label><div class=\"sk-toggleable__content\"><pre>RandomForestClassifier()</pre></div></div></div></div></div></div></div></div></div></div></div></div>"
      ],
      "text/plain": [
       "Pipeline(steps=[('imputer', SimpleImputer(strategy='median')),\n",
       "                ('resampled', RandomOverSampler(sampling_strategy=1)),\n",
       "                ('scaler', StandardScaler()),\n",
       "                ('variance', VarianceThreshold(threshold=0.3)),\n",
       "                ('correlacao',\n",
       "                 SmartCorrelatedSelection(selection_method='variance',\n",
       "                                          threshold=0.7)),\n",
       "                ('rfe',\n",
       "                 RFE(estimator=RandomForestClassifier(),\n",
       "                     n_features_to_select=20))])"
      ]
     },
     "execution_count": 8,
     "metadata": {},
     "output_type": "execute_result"
    }
   ],
   "source": [
    "pipe.fit(x_treino, y_treino)"
   ]
  },
  {
   "cell_type": "code",
   "execution_count": 17,
   "metadata": {},
   "outputs": [
    {
     "name": "stdout",
     "output_type": "stream",
     "text": [
      "Shape dos dados de teste: (15891, 20)\n",
      "Shape dos dados de treino: (59606, 20)\n"
     ]
    }
   ],
   "source": [
    "x_teste_transformed = pipe.transform(x_teste)\n",
    "x_treino_transformed = pipe.transform(x_treino)\n",
    "print('Shape dos dados de teste:', x_teste_transformed.shape)\n",
    "print('Shape dos dados de treino:', x_treino_transformed.shape)"
   ]
  },
  {
   "cell_type": "markdown",
   "metadata": {},
   "source": [
    "# Salvando os dados"
   ]
  },
  {
   "cell_type": "code",
   "execution_count": 21,
   "metadata": {},
   "outputs": [],
   "source": [
    "dados_tratado ={}\n",
    "dados_tratado[\"x_treino\"] = x_treino_transformed\n",
    "dados_tratado[\"y_treino\"] = y_treino\n",
    "dados_tratado[\"x_teste\"] = x_teste_transformed\n",
    "dados_tratado[\"y_teste\"] = y_teste\n",
    "with open(\"dados/dados_tratados.pickle\", \"wb\") as f:\n",
    "    pickle.dump(dados_tratado, f)"
   ]
  }
 ],
 "metadata": {
  "kernelspec": {
   "display_name": "env",
   "language": "python",
   "name": "python3"
  },
  "language_info": {
   "codemirror_mode": {
    "name": "ipython",
    "version": 3
   },
   "file_extension": ".py",
   "mimetype": "text/x-python",
   "name": "python",
   "nbconvert_exporter": "python",
   "pygments_lexer": "ipython3",
   "version": "3.12.3"
  }
 },
 "nbformat": 4,
 "nbformat_minor": 2
}
