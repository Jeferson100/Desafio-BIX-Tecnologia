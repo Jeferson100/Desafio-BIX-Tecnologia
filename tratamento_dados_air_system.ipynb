{
 "cells": [
  {
   "cell_type": "markdown",
   "metadata": {},
   "source": [
    "**No tratamento dos dados, removi as colunas que continham uma alta proporção de valores nulos e zeros simultaneamente, estabelecendo um limite de 40%. Em seguida, imputei os valores ausentes utilizando a mediana. Para lidar com o desbalanceamento de classes, utilizei o algoritmo RandomOverSampler(sampling_strategy=1). Posteriormente, normalizei os dados utilizando o método StandardScaler(). Utilizei os algoritmos VarianceThreshold(threshold=0.3), SmartCorrelatedSelection() e RFE() para reduzir a dimensionalidade dos dados, finalizando com 20 colunas selecionadas.**"
   ]
  },
  {
   "cell_type": "markdown",
   "metadata": {},
   "source": [
    "# Importação das bibliotecas"
   ]
  },
  {
   "cell_type": "code",
   "execution_count": 23,
   "metadata": {},
   "outputs": [],
   "source": [
    "import pandas as pd\n",
    "import numpy as np\n",
    "from sklearn.impute import SimpleImputer\n",
    "from sklearn.model_selection import train_test_split\n",
    "from imblearn.over_sampling import RandomOverSampler\n",
    "from sklearn.feature_selection import RFE, VarianceThreshold\n",
    "from feature_engine.selection import SmartCorrelatedSelection\n",
    "from sklearn.ensemble import RandomForestClassifier\n",
    "import warnings\n",
    "from imblearn.pipeline import Pipeline\n",
    "from sklearn.preprocessing import StandardScaler\n",
    "from sklearn.impute import SimpleImputer\n",
    "import pickle\n",
    "import os\n",
    "warnings.filterwarnings(\"ignore\", category=FutureWarning, module=\"seaborn\")\n",
    "warnings.simplefilter(action=\"ignore\", category=FutureWarning)"
   ]
  },
  {
   "cell_type": "markdown",
   "metadata": {},
   "source": [
    "# Coleta dos dados"
   ]
  },
  {
   "cell_type": "code",
   "execution_count": 17,
   "metadata": {},
   "outputs": [],
   "source": [
    "cal_and_teste= pd.read_csv(\"dados/air_system_present_year.csv\")\n",
    "treino = pd.read_csv(\"dados/air_system_previous_years.csv\")"
   ]
  },
  {
   "cell_type": "markdown",
   "metadata": {},
   "source": [
    "# Tratando os dados"
   ]
  },
  {
   "cell_type": "code",
   "execution_count": 25,
   "metadata": {},
   "outputs": [],
   "source": [
    "treino_trat = treino.copy()\n",
    "cal_and_teste_trat = cal_and_teste.copy()"
   ]
  },
  {
   "cell_type": "markdown",
   "metadata": {},
   "source": [
    "## Eliminando colunas"
   ]
  },
  {
   "cell_type": "code",
   "execution_count": 19,
   "metadata": {},
   "outputs": [],
   "source": [
    "# Tratamento dos dados \n",
    "## Remover colunas com valores ausentes e 0 maior de 40%\n",
    "def remove_valores_ausentes_zero(treino, teste, label):\n",
    "    lista_valores_ausentes_zero = []\n",
    "    for coluna in treino.columns:\n",
    "        if coluna == label:\n",
    "            continue\n",
    "        else:\n",
    "            if (treino[coluna].isnull().sum() + sum(treino[coluna] == 0)) / len(\n",
    "                treino\n",
    "            ) >= 0.4:\n",
    "                lista_valores_ausentes_zero.append(coluna)\n",
    "    treino.drop(columns=lista_valores_ausentes_zero, inplace=True)\n",
    "    teste.drop(columns=lista_valores_ausentes_zero, inplace=True)\n",
    "    ## Selecionar linhas com pelo menos 50 colunas preenchidas\n",
    "    treino = treino[treino.notnull().sum(axis=1) >= 50]\n",
    "    teste = teste[teste.notnull().sum(axis=1) >= 50]\n",
    "    return treino, teste\n",
    "\n",
    "\n",
    "def colunas_numericas(treino, teste, label):\n",
    "    for coluna in treino.columns:\n",
    "        if coluna == label:\n",
    "            continue\n",
    "        else:\n",
    "            treino[coluna] = pd.to_numeric(treino[coluna], errors=\"coerce\")\n",
    "            teste[coluna] = pd.to_numeric(teste[coluna], errors=\"coerce\")\n",
    "    return treino, teste"
   ]
  },
  {
   "cell_type": "code",
   "execution_count": 26,
   "metadata": {},
   "outputs": [
    {
     "name": "stderr",
     "output_type": "stream",
     "text": [
      "/tmp/ipykernel_30913/3814298814.py:7: SettingWithCopyWarning: \n",
      "A value is trying to be set on a copy of a slice from a DataFrame.\n",
      "Try using .loc[row_indexer,col_indexer] = value instead\n",
      "\n",
      "See the caveats in the documentation: https://pandas.pydata.org/pandas-docs/stable/user_guide/indexing.html#returning-a-view-versus-a-copy\n",
      "  cal_and_teste_trat[\"class\"] = np.where(cal_and_teste_trat[\"class\"] == \"pos\", 1, 0)\n"
     ]
    }
   ],
   "source": [
    "##Transformar colunas em numéricas\n",
    "treino_trat, test_trat = colunas_numericas(treino_trat, cal_and_teste_trat, \"class\")\n",
    "## Remover colunas com valores ausentes e 0 maior de 40% e Selecionar linhas com pelo menos 50 colunas preenchidas\n",
    "treino_trat, cal_and_teste_trat = remove_valores_ausentes_zero(treino_trat, cal_and_teste_trat, \"class\")\n",
    "##Transfomando as classes em numericas\n",
    "treino_trat[\"class\"] = np.where(treino_trat[\"class\"] == \"pos\", 1, 0)\n",
    "cal_and_teste_trat[\"class\"] = np.where(cal_and_teste_trat[\"class\"] == \"pos\", 1, 0)\n",
    "\n",
    "## Divisao e y e x\n",
    "y_treino = treino_trat[\"class\"]\n",
    "x_treino = treino_trat.drop(columns=\"class\")\n",
    "y_cal_and_teste = cal_and_teste_trat[\"class\"]\n",
    "x_cal_and_teste = cal_and_teste_trat.drop(columns=\"class\")"
   ]
  },
  {
   "cell_type": "markdown",
   "metadata": {},
   "source": [
    "## Dividindo dados de teste em dados de calibracao e teste"
   ]
  },
  {
   "cell_type": "code",
   "execution_count": 27,
   "metadata": {},
   "outputs": [],
   "source": [
    "x_calibracao, x_teste, y_calibracao, y_teste = train_test_split(x_cal_and_teste, y_cal_and_teste, test_size=0.5, random_state=42, stratify=y_cal_and_teste)"
   ]
  },
  {
   "cell_type": "code",
   "execution_count": 33,
   "metadata": {},
   "outputs": [
    {
     "data": {
      "text/plain": [
       "class\n",
       "0    58609\n",
       "1      997\n",
       "Name: count, dtype: int64"
      ]
     },
     "execution_count": 33,
     "metadata": {},
     "output_type": "execute_result"
    }
   ],
   "source": [
    "y_treino.value_counts()"
   ]
  },
  {
   "cell_type": "code",
   "execution_count": 28,
   "metadata": {},
   "outputs": [
    {
     "name": "stdout",
     "output_type": "stream",
     "text": [
      "Shape do x_treino: (59606, 99)\n",
      "Shape do y_treino: (59606,)\n",
      "Shape do x_calibracao: (7945, 99)\n",
      "Shape do y_calibracao (7945,)\n",
      "Shape do x_teste: (7946, 99)\n",
      "Shape do y_teste: (7946,)\n"
     ]
    }
   ],
   "source": [
    "\n",
    "\n",
    "\n",
    "print(\"Shape do x_treino:\", x_treino.shape)\n",
    "print(\"Shape do y_treino:\", y_treino.shape)\n",
    "print(\"Shape do x_calibracao:\", x_calibracao.shape )\n",
    "print(\"Shape do y_calibracao\",y_calibracao.shape )\n",
    "print(\"Shape do x_teste:\", x_teste.shape)\n",
    "print(\"Shape do y_teste:\", y_teste.shape)"
   ]
  },
  {
   "cell_type": "markdown",
   "metadata": {},
   "source": [
    "## Desbalanceando os dados"
   ]
  },
  {
   "cell_type": "code",
   "execution_count": 29,
   "metadata": {},
   "outputs": [],
   "source": [
    "ros = RandomOverSampler(sampling_strategy=1,random_state=42)\n",
    "x_treino_res, y_treino_res= ros.fit_resample(x_treino, y_treino)"
   ]
  },
  {
   "cell_type": "code",
   "execution_count": 30,
   "metadata": {},
   "outputs": [
    {
     "data": {
      "text/plain": [
       "((117218, 99), (117218,))"
      ]
     },
     "execution_count": 30,
     "metadata": {},
     "output_type": "execute_result"
    }
   ],
   "source": [
    "x_treino_res.shape,y_treino_res.shape"
   ]
  },
  {
   "cell_type": "markdown",
   "metadata": {},
   "source": [
    "## Utlizando PIPELINE para aplicar SimpleImputer, StandardScaler, VarianceThreshold SmartCorrelatedSelection e RFE"
   ]
  },
  {
   "cell_type": "code",
   "execution_count": 34,
   "metadata": {},
   "outputs": [],
   "source": [
    "pipe = Pipeline(\n",
    "    [\n",
    "        (\"imputer\", SimpleImputer(strategy=\"median\")),\n",
    "        (\"scaler\", StandardScaler()),\n",
    "        (\"variance\", VarianceThreshold(threshold=0.3)),\n",
    "        (\n",
    "            \"correlacao\",\n",
    "            SmartCorrelatedSelection(selection_method=\"variance\", threshold=0.7),\n",
    "        ),\n",
    "        (\"rfe\", RFE(estimator=RandomForestClassifier(), n_features_to_select=20)),\n",
    "        #(\"clf\", RandomForestClassifier()),\n",
    "    ]\n",
    ")"
   ]
  },
  {
   "cell_type": "code",
   "execution_count": 35,
   "metadata": {},
   "outputs": [
    {
     "data": {
      "text/html": [
       "<style>#sk-container-id-2 {color: black;}#sk-container-id-2 pre{padding: 0;}#sk-container-id-2 div.sk-toggleable {background-color: white;}#sk-container-id-2 label.sk-toggleable__label {cursor: pointer;display: block;width: 100%;margin-bottom: 0;padding: 0.3em;box-sizing: border-box;text-align: center;}#sk-container-id-2 label.sk-toggleable__label-arrow:before {content: \"▸\";float: left;margin-right: 0.25em;color: #696969;}#sk-container-id-2 label.sk-toggleable__label-arrow:hover:before {color: black;}#sk-container-id-2 div.sk-estimator:hover label.sk-toggleable__label-arrow:before {color: black;}#sk-container-id-2 div.sk-toggleable__content {max-height: 0;max-width: 0;overflow: hidden;text-align: left;background-color: #f0f8ff;}#sk-container-id-2 div.sk-toggleable__content pre {margin: 0.2em;color: black;border-radius: 0.25em;background-color: #f0f8ff;}#sk-container-id-2 input.sk-toggleable__control:checked~div.sk-toggleable__content {max-height: 200px;max-width: 100%;overflow: auto;}#sk-container-id-2 input.sk-toggleable__control:checked~label.sk-toggleable__label-arrow:before {content: \"▾\";}#sk-container-id-2 div.sk-estimator input.sk-toggleable__control:checked~label.sk-toggleable__label {background-color: #d4ebff;}#sk-container-id-2 div.sk-label input.sk-toggleable__control:checked~label.sk-toggleable__label {background-color: #d4ebff;}#sk-container-id-2 input.sk-hidden--visually {border: 0;clip: rect(1px 1px 1px 1px);clip: rect(1px, 1px, 1px, 1px);height: 1px;margin: -1px;overflow: hidden;padding: 0;position: absolute;width: 1px;}#sk-container-id-2 div.sk-estimator {font-family: monospace;background-color: #f0f8ff;border: 1px dotted black;border-radius: 0.25em;box-sizing: border-box;margin-bottom: 0.5em;}#sk-container-id-2 div.sk-estimator:hover {background-color: #d4ebff;}#sk-container-id-2 div.sk-parallel-item::after {content: \"\";width: 100%;border-bottom: 1px solid gray;flex-grow: 1;}#sk-container-id-2 div.sk-label:hover label.sk-toggleable__label {background-color: #d4ebff;}#sk-container-id-2 div.sk-serial::before {content: \"\";position: absolute;border-left: 1px solid gray;box-sizing: border-box;top: 0;bottom: 0;left: 50%;z-index: 0;}#sk-container-id-2 div.sk-serial {display: flex;flex-direction: column;align-items: center;background-color: white;padding-right: 0.2em;padding-left: 0.2em;position: relative;}#sk-container-id-2 div.sk-item {position: relative;z-index: 1;}#sk-container-id-2 div.sk-parallel {display: flex;align-items: stretch;justify-content: center;background-color: white;position: relative;}#sk-container-id-2 div.sk-item::before, #sk-container-id-2 div.sk-parallel-item::before {content: \"\";position: absolute;border-left: 1px solid gray;box-sizing: border-box;top: 0;bottom: 0;left: 50%;z-index: -1;}#sk-container-id-2 div.sk-parallel-item {display: flex;flex-direction: column;z-index: 1;position: relative;background-color: white;}#sk-container-id-2 div.sk-parallel-item:first-child::after {align-self: flex-end;width: 50%;}#sk-container-id-2 div.sk-parallel-item:last-child::after {align-self: flex-start;width: 50%;}#sk-container-id-2 div.sk-parallel-item:only-child::after {width: 0;}#sk-container-id-2 div.sk-dashed-wrapped {border: 1px dashed gray;margin: 0 0.4em 0.5em 0.4em;box-sizing: border-box;padding-bottom: 0.4em;background-color: white;}#sk-container-id-2 div.sk-label label {font-family: monospace;font-weight: bold;display: inline-block;line-height: 1.2em;}#sk-container-id-2 div.sk-label-container {text-align: center;}#sk-container-id-2 div.sk-container {/* jupyter's `normalize.less` sets `[hidden] { display: none; }` but bootstrap.min.css set `[hidden] { display: none !important; }` so we also need the `!important` here to be able to override the default hidden behavior on the sphinx rendered scikit-learn.org. See: https://github.com/scikit-learn/scikit-learn/issues/21755 */display: inline-block !important;position: relative;}#sk-container-id-2 div.sk-text-repr-fallback {display: none;}</style><div id=\"sk-container-id-2\" class=\"sk-top-container\"><div class=\"sk-text-repr-fallback\"><pre>Pipeline(steps=[(&#x27;imputer&#x27;, SimpleImputer(strategy=&#x27;median&#x27;)),\n",
       "                (&#x27;scaler&#x27;, StandardScaler()),\n",
       "                (&#x27;variance&#x27;, VarianceThreshold(threshold=0.3)),\n",
       "                (&#x27;correlacao&#x27;,\n",
       "                 SmartCorrelatedSelection(selection_method=&#x27;variance&#x27;,\n",
       "                                          threshold=0.7)),\n",
       "                (&#x27;rfe&#x27;,\n",
       "                 RFE(estimator=RandomForestClassifier(),\n",
       "                     n_features_to_select=20))])</pre><b>In a Jupyter environment, please rerun this cell to show the HTML representation or trust the notebook. <br />On GitHub, the HTML representation is unable to render, please try loading this page with nbviewer.org.</b></div><div class=\"sk-container\" hidden><div class=\"sk-item sk-dashed-wrapped\"><div class=\"sk-label-container\"><div class=\"sk-label sk-toggleable\"><input class=\"sk-toggleable__control sk-hidden--visually\" id=\"sk-estimator-id-2\" type=\"checkbox\" ><label for=\"sk-estimator-id-2\" class=\"sk-toggleable__label sk-toggleable__label-arrow\">Pipeline</label><div class=\"sk-toggleable__content\"><pre>Pipeline(steps=[(&#x27;imputer&#x27;, SimpleImputer(strategy=&#x27;median&#x27;)),\n",
       "                (&#x27;scaler&#x27;, StandardScaler()),\n",
       "                (&#x27;variance&#x27;, VarianceThreshold(threshold=0.3)),\n",
       "                (&#x27;correlacao&#x27;,\n",
       "                 SmartCorrelatedSelection(selection_method=&#x27;variance&#x27;,\n",
       "                                          threshold=0.7)),\n",
       "                (&#x27;rfe&#x27;,\n",
       "                 RFE(estimator=RandomForestClassifier(),\n",
       "                     n_features_to_select=20))])</pre></div></div></div><div class=\"sk-serial\"><div class=\"sk-item\"><div class=\"sk-estimator sk-toggleable\"><input class=\"sk-toggleable__control sk-hidden--visually\" id=\"sk-estimator-id-3\" type=\"checkbox\" ><label for=\"sk-estimator-id-3\" class=\"sk-toggleable__label sk-toggleable__label-arrow\">SimpleImputer</label><div class=\"sk-toggleable__content\"><pre>SimpleImputer(strategy=&#x27;median&#x27;)</pre></div></div></div><div class=\"sk-item\"><div class=\"sk-estimator sk-toggleable\"><input class=\"sk-toggleable__control sk-hidden--visually\" id=\"sk-estimator-id-4\" type=\"checkbox\" ><label for=\"sk-estimator-id-4\" class=\"sk-toggleable__label sk-toggleable__label-arrow\">StandardScaler</label><div class=\"sk-toggleable__content\"><pre>StandardScaler()</pre></div></div></div><div class=\"sk-item\"><div class=\"sk-estimator sk-toggleable\"><input class=\"sk-toggleable__control sk-hidden--visually\" id=\"sk-estimator-id-5\" type=\"checkbox\" ><label for=\"sk-estimator-id-5\" class=\"sk-toggleable__label sk-toggleable__label-arrow\">VarianceThreshold</label><div class=\"sk-toggleable__content\"><pre>VarianceThreshold(threshold=0.3)</pre></div></div></div><div class=\"sk-item\"><div class=\"sk-estimator sk-toggleable\"><input class=\"sk-toggleable__control sk-hidden--visually\" id=\"sk-estimator-id-6\" type=\"checkbox\" ><label for=\"sk-estimator-id-6\" class=\"sk-toggleable__label sk-toggleable__label-arrow\">SmartCorrelatedSelection</label><div class=\"sk-toggleable__content\"><pre>SmartCorrelatedSelection(selection_method=&#x27;variance&#x27;, threshold=0.7)</pre></div></div></div><div class=\"sk-item sk-dashed-wrapped\"><div class=\"sk-label-container\"><div class=\"sk-label sk-toggleable\"><input class=\"sk-toggleable__control sk-hidden--visually\" id=\"sk-estimator-id-7\" type=\"checkbox\" ><label for=\"sk-estimator-id-7\" class=\"sk-toggleable__label sk-toggleable__label-arrow\">rfe: RFE</label><div class=\"sk-toggleable__content\"><pre>RFE(estimator=RandomForestClassifier(), n_features_to_select=20)</pre></div></div></div><div class=\"sk-parallel\"><div class=\"sk-parallel-item\"><div class=\"sk-item\"><div class=\"sk-label-container\"><div class=\"sk-label sk-toggleable\"><input class=\"sk-toggleable__control sk-hidden--visually\" id=\"sk-estimator-id-8\" type=\"checkbox\" ><label for=\"sk-estimator-id-8\" class=\"sk-toggleable__label sk-toggleable__label-arrow\">estimator: RandomForestClassifier</label><div class=\"sk-toggleable__content\"><pre>RandomForestClassifier()</pre></div></div></div><div class=\"sk-serial\"><div class=\"sk-item\"><div class=\"sk-estimator sk-toggleable\"><input class=\"sk-toggleable__control sk-hidden--visually\" id=\"sk-estimator-id-9\" type=\"checkbox\" ><label for=\"sk-estimator-id-9\" class=\"sk-toggleable__label sk-toggleable__label-arrow\">RandomForestClassifier</label><div class=\"sk-toggleable__content\"><pre>RandomForestClassifier()</pre></div></div></div></div></div></div></div></div></div></div></div></div>"
      ],
      "text/plain": [
       "Pipeline(steps=[('imputer', SimpleImputer(strategy='median')),\n",
       "                ('scaler', StandardScaler()),\n",
       "                ('variance', VarianceThreshold(threshold=0.3)),\n",
       "                ('correlacao',\n",
       "                 SmartCorrelatedSelection(selection_method='variance',\n",
       "                                          threshold=0.7)),\n",
       "                ('rfe',\n",
       "                 RFE(estimator=RandomForestClassifier(),\n",
       "                     n_features_to_select=20))])"
      ]
     },
     "execution_count": 35,
     "metadata": {},
     "output_type": "execute_result"
    }
   ],
   "source": [
    "pipe.fit(x_treino_res, y_treino_res)"
   ]
  },
  {
   "cell_type": "code",
   "execution_count": 40,
   "metadata": {},
   "outputs": [
    {
     "name": "stdout",
     "output_type": "stream",
     "text": [
      "Shape dos dados de teste: (7946, 20)\n",
      "Shape dos dados de treino: (117218, 20)\n",
      "Shape dos dados de calibracao (7945, 20)\n"
     ]
    }
   ],
   "source": [
    "x_teste_transformed = pipe.transform(x_teste)\n",
    "x_treino_transformed = pipe.transform(x_treino_res)\n",
    "x_calibracao_transformed = pipe.transform(x_calibracao)\n",
    "print('Shape dos dados de teste:', x_teste_transformed.shape)\n",
    "print('Shape dos dados de treino:', x_treino_transformed.shape)\n",
    "print('Shape dos dados de calibracao', x_calibracao_transformed.shape)"
   ]
  },
  {
   "cell_type": "markdown",
   "metadata": {},
   "source": [
    "# Salvando os dados"
   ]
  },
  {
   "cell_type": "code",
   "execution_count": 43,
   "metadata": {},
   "outputs": [],
   "source": [
    "dados_tratado ={}\n",
    "dados_tratado[\"x_treino\"] = x_treino_transformed\n",
    "dados_tratado[\"y_treino\"] = y_treino_res.values\n",
    "dados_tratado[\"x_teste\"] = x_teste_transformed\n",
    "dados_tratado[\"y_teste\"] = y_teste.values\n",
    "dados_tratado['x_calibracao'] = x_calibracao_transformed\n",
    "dados_tratado['y_calibracao'] = y_calibracao.values\n",
    "with open(\"dados/dados_tratados.pickle\", \"wb\") as f:\n",
    "    pickle.dump(dados_tratado, f)"
   ]
  },
  {
   "cell_type": "code",
   "execution_count": null,
   "metadata": {},
   "outputs": [],
   "source": []
  }
 ],
 "metadata": {
  "kernelspec": {
   "display_name": "env",
   "language": "python",
   "name": "python3"
  },
  "language_info": {
   "codemirror_mode": {
    "name": "ipython",
    "version": 3
   },
   "file_extension": ".py",
   "mimetype": "text/x-python",
   "name": "python",
   "nbconvert_exporter": "python",
   "pygments_lexer": "ipython3",
   "version": "3.12.3"
  }
 },
 "nbformat": 4,
 "nbformat_minor": 2
}
